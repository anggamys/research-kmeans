{
 "cells": [
  {
   "cell_type": "code",
   "execution_count": 1,
   "id": "1e343970",
   "metadata": {},
   "outputs": [
    {
     "data": {
      "text/html": [
       "<div>\n",
       "<style scoped>\n",
       "    .dataframe tbody tr th:only-of-type {\n",
       "        vertical-align: middle;\n",
       "    }\n",
       "\n",
       "    .dataframe tbody tr th {\n",
       "        vertical-align: top;\n",
       "    }\n",
       "\n",
       "    .dataframe thead th {\n",
       "        text-align: right;\n",
       "    }\n",
       "</style>\n",
       "<table border=\"1\" class=\"dataframe\">\n",
       "  <thead>\n",
       "    <tr style=\"text-align: right;\">\n",
       "      <th></th>\n",
       "      <th>Judul</th>\n",
       "      <th>Waktu</th>\n",
       "      <th>Link</th>\n",
       "      <th>Content</th>\n",
       "      <th>tag1</th>\n",
       "      <th>tag2</th>\n",
       "      <th>tag3</th>\n",
       "      <th>tag4</th>\n",
       "      <th>tag5</th>\n",
       "      <th>source</th>\n",
       "    </tr>\n",
       "  </thead>\n",
       "  <tbody>\n",
       "    <tr>\n",
       "      <th>0</th>\n",
       "      <td>Jokowi Kenakan Pakaian Adat Betawi di Sidang T...</td>\n",
       "      <td>16/08/2024</td>\n",
       "      <td>https://nasional.kompas.com/read/2024/08/16/11...</td>\n",
       "      <td>JAKARTA, KOMPAS.com - Presiden Joko Widodo me...</td>\n",
       "      <td>Presiden Jokowi</td>\n",
       "      <td>Jokowi</td>\n",
       "      <td>sidang tahunan MPR RI 2024</td>\n",
       "      <td>Jokowi adat Betawi sidang mpr 2024</td>\n",
       "      <td>Megawati tak hadiri sidang tahunan MPR 2024</td>\n",
       "      <td>kompas</td>\n",
       "    </tr>\n",
       "  </tbody>\n",
       "</table>\n",
       "</div>"
      ],
      "text/plain": [
       "                                               Judul       Waktu  \\\n",
       "0  Jokowi Kenakan Pakaian Adat Betawi di Sidang T...  16/08/2024   \n",
       "\n",
       "                                                Link  \\\n",
       "0  https://nasional.kompas.com/read/2024/08/16/11...   \n",
       "\n",
       "                                             Content             tag1    tag2  \\\n",
       "0   JAKARTA, KOMPAS.com - Presiden Joko Widodo me...  Presiden Jokowi  Jokowi   \n",
       "\n",
       "                         tag3                                tag4  \\\n",
       "0  sidang tahunan MPR RI 2024  Jokowi adat Betawi sidang mpr 2024   \n",
       "\n",
       "                                          tag5  source  \n",
       "0  Megawati tak hadiri sidang tahunan MPR 2024  kompas  "
      ]
     },
     "execution_count": 1,
     "metadata": {},
     "output_type": "execute_result"
    }
   ],
   "source": [
    "import pandas as pd\n",
    "\n",
    "dataset = pd.read_csv('./data/politik_merge.csv')\n",
    "dataset.head(1)"
   ]
  },
  {
   "cell_type": "code",
   "execution_count": 2,
   "id": "d16d0b97",
   "metadata": {},
   "outputs": [
    {
     "data": {
      "text/html": [
       "<div>\n",
       "<style scoped>\n",
       "    .dataframe tbody tr th:only-of-type {\n",
       "        vertical-align: middle;\n",
       "    }\n",
       "\n",
       "    .dataframe tbody tr th {\n",
       "        vertical-align: top;\n",
       "    }\n",
       "\n",
       "    .dataframe thead th {\n",
       "        text-align: right;\n",
       "    }\n",
       "</style>\n",
       "<table border=\"1\" class=\"dataframe\">\n",
       "  <thead>\n",
       "    <tr style=\"text-align: right;\">\n",
       "      <th></th>\n",
       "      <th>content</th>\n",
       "    </tr>\n",
       "  </thead>\n",
       "  <tbody>\n",
       "    <tr>\n",
       "      <th>0</th>\n",
       "      <td>JAKARTA, KOMPAS.com - Presiden Joko Widodo me...</td>\n",
       "    </tr>\n",
       "  </tbody>\n",
       "</table>\n",
       "</div>"
      ],
      "text/plain": [
       "                                             content\n",
       "0   JAKARTA, KOMPAS.com - Presiden Joko Widodo me..."
      ]
     },
     "execution_count": 2,
     "metadata": {},
     "output_type": "execute_result"
    }
   ],
   "source": [
    "dataset.drop(columns=['Judul', 'Waktu', 'Link', 'tag1', 'tag2', 'tag3', 'tag4', 'tag5' ,'source'], inplace=True)\n",
    "dataset.rename(columns={'Content': 'content'}, inplace=True)\n",
    "\n",
    "dataset.head(1)"
   ]
  },
  {
   "cell_type": "code",
   "execution_count": 3,
   "id": "a7342b17",
   "metadata": {},
   "outputs": [
    {
     "name": "stdout",
     "output_type": "stream",
     "text": [
      "Number of duplicate rows: 467\n"
     ]
    }
   ],
   "source": [
    "count_duplicates = dataset.duplicated(subset=['content']).sum()\n",
    "print(f\"Number of duplicate rows: {count_duplicates}\")"
   ]
  },
  {
   "cell_type": "code",
   "execution_count": 4,
   "id": "dc196408",
   "metadata": {},
   "outputs": [
    {
     "name": "stdout",
     "output_type": "stream",
     "text": [
      "Number of duplicate rows after dropping: 0\n"
     ]
    }
   ],
   "source": [
    "dataset.drop_duplicates(subset=['content'], keep='first', inplace=True)\n",
    "\n",
    "count_duplicates = dataset.duplicated(subset=['content']).sum()\n",
    "print(f\"Number of duplicate rows after dropping: {count_duplicates}\")"
   ]
  },
  {
   "cell_type": "code",
   "execution_count": 5,
   "id": "dc2f0f4c",
   "metadata": {},
   "outputs": [
    {
     "name": "stdout",
     "output_type": "stream",
     "text": [
      "Number of NaN values: 1\n"
     ]
    }
   ],
   "source": [
    "count_nan = dataset.isna().sum().sum()\n",
    "print(f\"Number of NaN values: {count_nan}\")"
   ]
  },
  {
   "cell_type": "code",
   "execution_count": 6,
   "id": "efbb0a2d",
   "metadata": {},
   "outputs": [
    {
     "name": "stdout",
     "output_type": "stream",
     "text": [
      "Number of NaN values after dropping: 0\n"
     ]
    }
   ],
   "source": [
    "dataset.dropna(subset=['content'], inplace=True)\n",
    "\n",
    "count_nan = dataset.isna().sum().sum()\n",
    "print(f\"Number of NaN values after dropping: {count_nan}\")"
   ]
  },
  {
   "cell_type": "code",
   "execution_count": 7,
   "id": "34c86e6f",
   "metadata": {},
   "outputs": [
    {
     "name": "stdout",
     "output_type": "stream",
     "text": [
      " \"iya (kita bantu). kita nggak boleh juga underestimate sama orang ya. itu evita peron di argentina itu kurang apa itu jadi cercaan publik. tapi pas memimpin juga bisa baik,\" ujar andi. \"jadi ya kita kasih kesempatan kalau orang mau buat baik bagi masyarakat. jangan terlalu underestimate. atau ada orang yang kita perkirakan bisa bekerja baik, belum bisa bekerja baik. mungkin kontroversi ini bisa dibuktikan, jika dia menang, bisa buktikan itu semua, yang penting dia penuhi syarat untuk ini,\" imbuhnya. seperti diketahui, demokrat mengumumkan dukungan kepada ahmad riza patria-marshel widianto di pilwalkot tangsel. surat rekomendasi dukungan itu diberikan langsung oleh ketum demokrat, agus harimurti yudhoyono (ahy), ke riza-marshel. \"selamat ya, selamat,\" kata ahy di lokasi yang sama. \n"
     ]
    }
   ],
   "source": [
    "dataset['lowercase'] = dataset['content'].str.lower()\n",
    "\n",
    "print(dataset['lowercase'].sample(1).values[0])"
   ]
  },
  {
   "cell_type": "code",
   "execution_count": 8,
   "id": "e1aca614",
   "metadata": {},
   "outputs": [
    {
     "name": "stdout",
     "output_type": "stream",
     "text": [
      "tiga orang ditemukan tewas di lokasi tanah longsor di jepang barat setelah hujan lebat melanda wilayah tersebut dilansir kantor berita afp sabtu para petugas penyelamat telah mencari tiga orang seorang pria berusia an tahun seorang wanita berusia an tahun dan seorang pria berusia an tahun yang tinggal di sebuah rumah kayu yang ambruk setelah tanah longsor di matsuyama prefektur ehime longsor terjadi pada jumat pagi waktu setempat seiring badan cuaca memperingatkan akan adanya hujan lebat di jepang bagian barat para pejabat telah menyerukan masyarakat untuk waspada terhadap tanah longsor dan banjir di daerah dataran rendah dua pria dan seorang wanita dipastikan tewas setelah pencarian yang berlanjut sepanjang malam kata seorang pejabat ehime kepada afp kami masih belum tahu apakah ketiga orang yang ditemukan itu adalah mereka yang hilang katanya seraya menyebutkan bahwa para pejabat sedang berusaha memverifikasi identitas mereka jepang saat ini sedang memasuki musim hujan tahunan yang sering kali mengakibatkan hujan lebat dan terkadang mengakibatkan banjir dan tanah longsor serta menimbulkan korban jiwa para ilmuwan mengatakan perubahan iklim meningkatkan risiko hujan lebat di jepang dan negaranegara lain karena atmosfer yang lebih hangat menampung lebih banyak air\n"
     ]
    }
   ],
   "source": [
    "import re\n",
    "\n",
    "def remove_special_characters(text):\n",
    "    # Remove special characters and digits\n",
    "    text = re.sub(r'[^a-zA-Z\\s]', '', text)\n",
    "    # Remove extra spaces\n",
    "    text = re.sub(r'\\s+', ' ', text).strip()\n",
    "    return text\n",
    "\n",
    "dataset['cleaned'] = dataset['lowercase'].apply(remove_special_characters)\n",
    "print(dataset['cleaned'].sample(1).values[0])"
   ]
  },
  {
   "cell_type": "code",
   "execution_count": 9,
   "id": "e19084bb",
   "metadata": {},
   "outputs": [
    {
     "name": "stdout",
     "output_type": "stream",
     "text": [
      "tempoco palangkaraya ketua tim perumus mata pelajaran muatan lokal dewan adat dayak dad kalimantan tengah jhon retei alfrisandi mengatakan selama ini capaian pembelajaran menjadi kendala bagi para guru sebabnya tidak masuk dalam jam kredit merasa terbebani karena mereka harus mengajarkan tanpa adanya pengakuan bentuk yang berimplikasi pada penilaian kinerja ujarnya senin agustus disdik dki bina siswa ikut demo tolak revisi uu pilkada dikatakannya saat kalteng bersama mengupayakan agar salah satu memiliki nilai hal penting untuk memberikan insentif dan dorongan kepada lebih bersemangat mengajar materi khususnya berkaitan dengan budaya bukan hanya sekadar tetapi juga medium mengenalkan nilainilai istiadat kearifan generasi muda tambahnya program sekolah swasta gratis libatkan masih kaji mekanismenya melalui diharapkan siswasiswa di unggul secara akademis pemahaman mendalam tentang identitas ingin memastikan bahwa semua elemen pendukung sudah siap sehingga pengajaran dapat dilakukan optimal memberi dampak positif waktu dekat akan mengajukan permohonan pemerintah pusat bisa diakui kreditnya kami merumuskan sesuai kurikulum baru seperti merdeka belajar\n"
     ]
    }
   ],
   "source": [
    "# Remove duplicate words\n",
    "def remove_duplicate_words(text):\n",
    "    words = text.split()\n",
    "    unique_words = list(dict.fromkeys(words))\n",
    "    return ' '.join(unique_words)\n",
    "\n",
    "dataset['cleaned'] = dataset['cleaned'].apply(remove_duplicate_words)\n",
    "print(dataset['cleaned'].sample(1).values[0])"
   ]
  },
  {
   "cell_type": "code",
   "execution_count": 10,
   "id": "fe3cf7ef",
   "metadata": {},
   "outputs": [
    {
     "name": "stdout",
     "output_type": "stream",
     "text": [
      "['menteri', 'lingkungan', 'hidup', 'dan', 'kehutanan', 'ri', 'siti', 'nurbaya', 'menghadiri', 'pertemuan', 'committee', 'on', 'forestry', 'cofo', 'ke', 'di', 'roma', 'italia', 'pada', 'sesi', 'agenda', 'item', 'yang', 'berjudul', 'keadaan', 'hutan', 'dunia', 'inovasi', 'sektor', 'menuju', 'masa', 'depan', 'lebih', 'berkelanjutan', 'memberikan', 'apresiasi', 'atas', 'publikasi', 'baru', 'fao', 'dengan', 'tema', 'utama', 'kami', 'mengapresiasi', 'kabar', 'baik', 'dalam', 'sofo', 'menunjukkan', 'bahwa', 'ada', 'penurunan', 'deforestasi', 'signifikan', 'beberapa', 'negara', 'sebagai', 'contoh', 'diperkirakan', 'telah', 'menurun', 'sebesar', 'persen', 'indonesia', 'tahun', 'ujar', 'keterangan', 'tertulis', 'selasa', 'pun', 'melanjutkan', 'jika', 'berita', 'menggembirakan', 'juga', 'disebutkan', 'tersebut', 'berupa', 'laju', 'kehilangan', 'bakau', 'global', 'bruto', 'antara', 'hal', 'ini', 'merupakan', 'namun', 'pekerjaan', 'kita', 'bersama', 'masih', 'jauh', 'dari', 'selesai', 'imbuh', 'positif', 'tadi', 'mengungkapkan', 'menegaskan', 'kembali', 'target', 'iklimnya', 'ambisius', 'saat', 'menyerahkan', 'ndc', 'disempurnakan', 'pengurangan', 'emisi', 'adalah', 'dibandingkan', 'baseline', 'tahunan', 'sekitar', 'kerja', 'sama', 'internasional', 'melebihi', 'kapasitas', 'nasional', 'jelas', 'lanjut', 'ia', 'menyebut', 'pendekatan', 'mengelola', 'sumber', 'daya', 'alam', 'mengimplementasikan', 'aksi', 'iklim', 'dilakukan', 'secara', 'sistematis', 'terintegrasi', 'mencakup', 'klaster', 'bawah', 'rencana', 'operasional', 'folu', 'net', 'sink', 'mengikat', 'hukum', 'bukan', 'hanya', 'komitmen', 'kertas', 'meskipun', 'inisiatif', 'tentang', 'tujuan', 'memprioritaskan', 'perlindungan', 'spesies', 'seperti', 'orangutan', 'sumatera', 'gajah', 'harimau', 'badak', 'tapanuli', 'kalimantan', 'jawa', 'lainnya', 'untuk', 'memastikan', 'populasi', 'mereka', 'terus', 'berkembang', 'terhindar', 'kepunahan', 'pengarusutamaan', 'konservasi', 'keanekaragaman', 'hayati', 'termasuk', 'satwa', 'liar', 'habitat', 'pemanfaatan', 'sangat', 'penting', 'mencapai', 'kerangka', 'ditargetkan', 'bentang', 'papua', 'tonggak', 'sejarah', 'mendukung', 'bertanggung', 'jawab', 'inklusif', 'mengoptimalkan', 'solusi', 'berbasis', 'membawa', 'banyak', 'program', 'kegiatan', 'peningkatan', 'pengendalian', 'kebakaran', 'lahan', 'perhutanan', 'sosial', 'kemasyarakatan', 'adat', 'promosi', 'kawasan', 'menerapkan', 'resort', 'based', 'management', 'rbm', 'spatial', 'monitoring', 'and', 'reporting', 'tool', 'smart', 'meningkatkan', 'tata', 'kelola', 'ekosistem', 'gambut', 'memperkenalkan', 'sistem', 'verifikasi', 'legalitas', 'kayu', 'svlk', 'melibatkan', 'kaum', 'muda', 'berinvestasi', 'pengelolaan', 'semua', 'dijelaskan', 'terbaru', 'the', 'state', 'of', 'indonesias', 'forests', 'versi', 'akan', 'diluncurkan', 'juli', 'pagi', 'pukul', 'syeikh', 'zayed', 'conference', 'room', 'pungkasnya', 'simak', 'video', 'pimpin', 'asof', 'terhadap', 'mangrove', 'gambasvideo', 'detik']\n"
     ]
    }
   ],
   "source": [
    "from nltk.tokenize import word_tokenize\n",
    "\n",
    "dataset['tokenized'] = dataset['cleaned'].apply(word_tokenize)\n",
    "print(dataset['tokenized'].sample(1).values[0])"
   ]
  },
  {
   "cell_type": "code",
   "execution_count": null,
   "id": "1737c2fe",
   "metadata": {},
   "outputs": [
    {
     "name": "stderr",
     "output_type": "stream",
     "text": [
      "[nltk_data] Downloading package stopwords to\n",
      "[nltk_data]     /home/c0delb08/nltk_data...\n",
      "[nltk_data]   Package stopwords is already up-to-date!\n"
     ]
    },
    {
     "name": "stdout",
     "output_type": "stream",
     "text": [
      "['ratusan', 'orang', 'korban', 'aksi', 'terorisme', 'gedung', 'konser', 'moskow', 'rusia', 'wakil', 'ketua', 'dpr', 'ri', 'sufmi', 'dasco', 'ahmad', 'berbelasungkawa', 'mengutuk', 'keras', 'belasungkawa', 'mendalam', 'biadab', 'rakyat', 'negara', 'sahabat', 'wartawan', 'minggu', 'ucapkan', 'keprihatinan', 'semoga', 'melewati', 'harihari', 'tabah', 'berdoa', 'dikuatkan', 'menghadapi', 'kejadian', 'sambungnya', 'dibiarkan', 'berharap', 'warga', 'tragedi', 'ditindak', 'aksiaksi', 'brutal', 'dibenarkan', 'merugikan', 'bangsa', 'dunia', 'depannya', 'imbuhnya', 'tewas', 'akibat', 'penembakan', 'massal', 'bertambah', 'terluka', 'serangan', 'diklaim', 'kelompok', 'isis', 'dilansir', 'reuters', 'gubernur', 'wilayah', 'andrei', 'vorobyov', 'jenazah', 'ditemukan', 'reruntuhan', 'jam', 'dokter', 'berjuang', 'menyelamatkan', 'nyawa', 'editor', 'tv', 'pemerintah', 'margarita', 'simonyan', 'sumbernya', 'jiwa', 'presiden', 'vladimir', 'putin', 'berjanji', 'melacak', 'menghukum', 'menyebut', 'musuh', 'internasional', 'mengalahkan', 'pelaku', 'penyelenggara', 'memerintahkan', 'kejahatan', 'dihukum', 'adil', 'membimbing']\n"
     ]
    }
   ],
   "source": [
    "import nltk\n",
    "from nltk.corpus import stopwords\n",
    "\n",
    "nltk.download('stopwords')\n",
    "stop_words_id = set(stopwords.words('indonesian'))\n",
    "\n",
    "dataset['stopwords'] = dataset['tokenized'].apply(\n",
    "    lambda x: [word for word in x if word not in stop_words_id]\n",
    ")\n",
    "\n",
    "print(dataset['stopwords'].sample(1).values[0])\n"
   ]
  },
  {
   "cell_type": "code",
   "execution_count": null,
   "id": "28a99a07",
   "metadata": {},
   "outputs": [
    {
     "name": "stdout",
     "output_type": "stream",
     "text": [
      "['tempoco', 'jakarta', 'nama', 'muncul', 'bursa', 'calon', 'gubernur', 'pilih', 'kepala', 'daerah', 'pilkada', 'salah', 'satu', 'basuki', 'tjahaja', 'purnama', 'pria', 'akrab', 'sapa', 'ahok', 'saing', 'tokoh', 'populer', 'mata', 'publik', 'tri', 'rismaharini', 'risma', 'anies', 'baswedan', 'kaesang', 'pangarep', 'ahmad', 'sahroni', 'pakar', 'komunikasi', 'anthony', 'leong', 'mantan', 'dki', 'milik', 'maju', 'november', 'besok', 'kpu', 'dpr', 'bahas', 'kotak', 'kosong', 'tanggap', 'unggah', 'video', 'akun', 'instagram', 'pribadi', 'basukibtp', 'jumat', 'april', 'isi', 'narasi', 'sila', 'masyarakat', 'menang', 'tarung', 'usaha', 'terang', 'tulis', 'ahad', 'kutip', 'tampil', 'bahas', 'masalah', 'kota', 'sinyal', 'kembali', 'politikus', 'partai', 'demokrasi', 'indonesia', 'juang', 'pdip', 'pimpin', 'nilai', 'hasrat', 'letjen', 'tni', 'purn', 'am', 'putranto', 'ketua', 'menang', 'luthfi', 'rival', 'eks', 'panglima', 'andika', 'perkasa', 'pilgub', 'jateng', 'jokowi', 'presiden', 'kalah', 'panggil', 'jiwa', 'laga', 'pilpres', 'sosok', 'pas', 'usung', 'mundur', 'pertamina', 'dukung', 'ganjar', 'minggu', 'barter', 'politik', 'tiket', 'penuh', 'syarat', 'pidana', 'norma', 'pasal', 'ayat', 'undangundang', 'nomor', 'bupati', 'walikota', 'jelas', 'putus', 'mahkamah', 'konstitusi', 'mk', 'puuxvii', 'atur', 'huruf', 'g', 'pidana', 'jujur', 'buka', 'umum', 'latar', 'jati']\n"
     ]
    }
   ],
   "source": [
    "from Sastrawi.Stemmer.StemmerFactory import StemmerFactory\n",
    "\n",
    "factory = StemmerFactory()\n",
    "stemmer = factory.create_stemmer()\n",
    "\n",
    "def stem_tokens(tokens):\n",
    "    if not tokens:\n",
    "        return []\n",
    "\n",
    "    sentence = ' '.join(tokens)\n",
    "    stemmed_sentence = stemmer.stem(sentence)\n",
    "\n",
    "    return stemmed_sentence.split()\n",
    "\n",
    "dataset['stemmed'] = dataset['stopwords'].apply(stem_tokens)\n",
    "\n",
    "print(dataset['stemmed'].sample(1).values[0])"
   ]
  },
  {
   "cell_type": "code",
   "execution_count": 16,
   "id": "109c0862",
   "metadata": {},
   "outputs": [
    {
     "data": {
      "text/html": [
       "<div>\n",
       "<style scoped>\n",
       "    .dataframe tbody tr th:only-of-type {\n",
       "        vertical-align: middle;\n",
       "    }\n",
       "\n",
       "    .dataframe tbody tr th {\n",
       "        vertical-align: top;\n",
       "    }\n",
       "\n",
       "    .dataframe thead th {\n",
       "        text-align: right;\n",
       "    }\n",
       "</style>\n",
       "<table border=\"1\" class=\"dataframe\">\n",
       "  <thead>\n",
       "    <tr style=\"text-align: right;\">\n",
       "      <th></th>\n",
       "      <th>content</th>\n",
       "      <th>lowercase</th>\n",
       "      <th>cleaned</th>\n",
       "      <th>tokenized</th>\n",
       "      <th>stopwords</th>\n",
       "      <th>stemmed</th>\n",
       "    </tr>\n",
       "  </thead>\n",
       "  <tbody>\n",
       "    <tr>\n",
       "      <th>0</th>\n",
       "      <td>JAKARTA, KOMPAS.com - Presiden Joko Widodo me...</td>\n",
       "      <td>jakarta, kompas.com - presiden joko widodo me...</td>\n",
       "      <td>jakarta kompascom presiden joko widodo memakai...</td>\n",
       "      <td>[jakarta, kompascom, presiden, joko, widodo, m...</td>\n",
       "      <td>[jakarta, kompascom, presiden, joko, widodo, m...</td>\n",
       "      <td>[jakarta, kompascom, presiden, joko, widodo, p...</td>\n",
       "    </tr>\n",
       "    <tr>\n",
       "      <th>1</th>\n",
       "      <td>TEMPO.CO, Jakarta - Amnesty International Indo...</td>\n",
       "      <td>tempo.co, jakarta - amnesty international indo...</td>\n",
       "      <td>tempoco jakarta amnesty international indonesi...</td>\n",
       "      <td>[tempoco, jakarta, amnesty, international, ind...</td>\n",
       "      <td>[tempoco, jakarta, amnesty, international, ind...</td>\n",
       "      <td>[tempoco, jakarta, amnesty, international, ind...</td>\n",
       "    </tr>\n",
       "    <tr>\n",
       "      <th>2</th>\n",
       "      <td>Stasiun kereta cepat Whoosh di Halim, Jakarta ...</td>\n",
       "      <td>stasiun kereta cepat whoosh di halim, jakarta ...</td>\n",
       "      <td>stasiun kereta cepat whoosh di halim jakarta t...</td>\n",
       "      <td>[stasiun, kereta, cepat, whoosh, di, halim, ja...</td>\n",
       "      <td>[stasiun, kereta, cepat, whoosh, halim, jakart...</td>\n",
       "      <td>[stasiun, kereta, cepat, whoosh, halim, jakart...</td>\n",
       "    </tr>\n",
       "    <tr>\n",
       "      <th>3</th>\n",
       "      <td>JAKARTA, KOMPAS.com - Komisi Pemilihan Umum (...</td>\n",
       "      <td>jakarta, kompas.com - komisi pemilihan umum (...</td>\n",
       "      <td>jakarta kompascom komisi pemilihan umum kpu ri...</td>\n",
       "      <td>[jakarta, kompascom, komisi, pemilihan, umum, ...</td>\n",
       "      <td>[jakarta, kompascom, komisi, pemilihan, kpu, r...</td>\n",
       "      <td>[jakarta, kompascom, komisi, pilih, kpu, ri, p...</td>\n",
       "    </tr>\n",
       "    <tr>\n",
       "      <th>4</th>\n",
       "      <td>TEMPO.CO, Jakarta - Kementerian Agama atau Kem...</td>\n",
       "      <td>tempo.co, jakarta - kementerian agama atau kem...</td>\n",
       "      <td>tempoco jakarta kementerian agama atau kemenag...</td>\n",
       "      <td>[tempoco, jakarta, kementerian, agama, atau, k...</td>\n",
       "      <td>[tempoco, jakarta, kementerian, agama, kemenag...</td>\n",
       "      <td>[tempoco, jakarta, menteri, agama, kemenag, lu...</td>\n",
       "    </tr>\n",
       "  </tbody>\n",
       "</table>\n",
       "</div>"
      ],
      "text/plain": [
       "                                             content  \\\n",
       "0   JAKARTA, KOMPAS.com - Presiden Joko Widodo me...   \n",
       "1  TEMPO.CO, Jakarta - Amnesty International Indo...   \n",
       "2  Stasiun kereta cepat Whoosh di Halim, Jakarta ...   \n",
       "3   JAKARTA, KOMPAS.com - Komisi Pemilihan Umum (...   \n",
       "4  TEMPO.CO, Jakarta - Kementerian Agama atau Kem...   \n",
       "\n",
       "                                           lowercase  \\\n",
       "0   jakarta, kompas.com - presiden joko widodo me...   \n",
       "1  tempo.co, jakarta - amnesty international indo...   \n",
       "2  stasiun kereta cepat whoosh di halim, jakarta ...   \n",
       "3   jakarta, kompas.com - komisi pemilihan umum (...   \n",
       "4  tempo.co, jakarta - kementerian agama atau kem...   \n",
       "\n",
       "                                             cleaned  \\\n",
       "0  jakarta kompascom presiden joko widodo memakai...   \n",
       "1  tempoco jakarta amnesty international indonesi...   \n",
       "2  stasiun kereta cepat whoosh di halim jakarta t...   \n",
       "3  jakarta kompascom komisi pemilihan umum kpu ri...   \n",
       "4  tempoco jakarta kementerian agama atau kemenag...   \n",
       "\n",
       "                                           tokenized  \\\n",
       "0  [jakarta, kompascom, presiden, joko, widodo, m...   \n",
       "1  [tempoco, jakarta, amnesty, international, ind...   \n",
       "2  [stasiun, kereta, cepat, whoosh, di, halim, ja...   \n",
       "3  [jakarta, kompascom, komisi, pemilihan, umum, ...   \n",
       "4  [tempoco, jakarta, kementerian, agama, atau, k...   \n",
       "\n",
       "                                           stopwords  \\\n",
       "0  [jakarta, kompascom, presiden, joko, widodo, m...   \n",
       "1  [tempoco, jakarta, amnesty, international, ind...   \n",
       "2  [stasiun, kereta, cepat, whoosh, halim, jakart...   \n",
       "3  [jakarta, kompascom, komisi, pemilihan, kpu, r...   \n",
       "4  [tempoco, jakarta, kementerian, agama, kemenag...   \n",
       "\n",
       "                                             stemmed  \n",
       "0  [jakarta, kompascom, presiden, joko, widodo, p...  \n",
       "1  [tempoco, jakarta, amnesty, international, ind...  \n",
       "2  [stasiun, kereta, cepat, whoosh, halim, jakart...  \n",
       "3  [jakarta, kompascom, komisi, pilih, kpu, ri, p...  \n",
       "4  [tempoco, jakarta, menteri, agama, kemenag, lu...  "
      ]
     },
     "execution_count": 16,
     "metadata": {},
     "output_type": "execute_result"
    }
   ],
   "source": [
    "dataset.head(5)"
   ]
  }
 ],
 "metadata": {
  "kernelspec": {
   "display_name": "python",
   "language": "python",
   "name": "python3"
  },
  "language_info": {
   "codemirror_mode": {
    "name": "ipython",
    "version": 3
   },
   "file_extension": ".py",
   "mimetype": "text/x-python",
   "name": "python",
   "nbconvert_exporter": "python",
   "pygments_lexer": "ipython3",
   "version": "3.10.12"
  }
 },
 "nbformat": 4,
 "nbformat_minor": 5
}
