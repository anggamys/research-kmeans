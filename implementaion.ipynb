{
 "cells": [
  {
   "cell_type": "code",
   "execution_count": 1,
   "id": "fc5877bb",
   "metadata": {},
   "outputs": [
    {
     "data": {
      "text/html": [
       "<div>\n",
       "<style scoped>\n",
       "    .dataframe tbody tr th:only-of-type {\n",
       "        vertical-align: middle;\n",
       "    }\n",
       "\n",
       "    .dataframe tbody tr th {\n",
       "        vertical-align: top;\n",
       "    }\n",
       "\n",
       "    .dataframe thead th {\n",
       "        text-align: right;\n",
       "    }\n",
       "</style>\n",
       "<table border=\"1\" class=\"dataframe\">\n",
       "  <thead>\n",
       "    <tr style=\"text-align: right;\">\n",
       "      <th></th>\n",
       "      <th>content</th>\n",
       "      <th>cleaned_content</th>\n",
       "      <th>tokens</th>\n",
       "      <th>stopwords</th>\n",
       "      <th>stemmed</th>\n",
       "    </tr>\n",
       "  </thead>\n",
       "  <tbody>\n",
       "    <tr>\n",
       "      <th>0</th>\n",
       "      <td>JAKARTA, KOMPAS.com - Presiden Joko Widodo me...</td>\n",
       "      <td>jakarta kompas com presiden joko widodo memaka...</td>\n",
       "      <td>['jakarta', 'kompas', 'com', 'presiden', 'joko...</td>\n",
       "      <td>['jakarta', 'kompas', 'com', 'presiden', 'joko...</td>\n",
       "      <td>['jakarta', 'kompas', 'com', 'presiden', 'joko...</td>\n",
       "    </tr>\n",
       "    <tr>\n",
       "      <th>1</th>\n",
       "      <td>TEMPO.CO, Jakarta - Amnesty International Indo...</td>\n",
       "      <td>tempo co jakarta amnesty international indones...</td>\n",
       "      <td>['tempo', 'co', 'jakarta', 'amnesty', 'interna...</td>\n",
       "      <td>['tempo', 'co', 'jakarta', 'amnesty', 'interna...</td>\n",
       "      <td>['tempo', 'co', 'jakarta', 'amnesty', 'interna...</td>\n",
       "    </tr>\n",
       "    <tr>\n",
       "      <th>2</th>\n",
       "      <td>Stasiun kereta cepat Whoosh di Halim, Jakarta ...</td>\n",
       "      <td>stasiun kereta cepat whoosh di halim jakarta t...</td>\n",
       "      <td>['stasiun', 'kereta', 'cepat', 'whoosh', 'di',...</td>\n",
       "      <td>['stasiun', 'kereta', 'cepat', 'whoosh', 'hali...</td>\n",
       "      <td>['stasiun', 'kereta', 'cepat', 'whoosh', 'hali...</td>\n",
       "    </tr>\n",
       "    <tr>\n",
       "      <th>3</th>\n",
       "      <td>JAKARTA, KOMPAS.com - Komisi Pemilihan Umum (...</td>\n",
       "      <td>jakarta kompas com komisi pemilihan umum kpu r...</td>\n",
       "      <td>['jakarta', 'kompas', 'com', 'komisi', 'pemili...</td>\n",
       "      <td>['jakarta', 'kompas', 'com', 'komisi', 'pemili...</td>\n",
       "      <td>['jakarta', 'kompas', 'com', 'komisi', 'pilih'...</td>\n",
       "    </tr>\n",
       "    <tr>\n",
       "      <th>4</th>\n",
       "      <td>TEMPO.CO, Jakarta - Kementerian Agama atau Kem...</td>\n",
       "      <td>tempo co jakarta kementerian agama atau kemena...</td>\n",
       "      <td>['tempo', 'co', 'jakarta', 'kementerian', 'aga...</td>\n",
       "      <td>['tempo', 'co', 'jakarta', 'kementerian', 'aga...</td>\n",
       "      <td>['tempo', 'co', 'jakarta', 'menteri', 'agama',...</td>\n",
       "    </tr>\n",
       "  </tbody>\n",
       "</table>\n",
       "</div>"
      ],
      "text/plain": [
       "                                             content  \\\n",
       "0   JAKARTA, KOMPAS.com - Presiden Joko Widodo me...   \n",
       "1  TEMPO.CO, Jakarta - Amnesty International Indo...   \n",
       "2  Stasiun kereta cepat Whoosh di Halim, Jakarta ...   \n",
       "3   JAKARTA, KOMPAS.com - Komisi Pemilihan Umum (...   \n",
       "4  TEMPO.CO, Jakarta - Kementerian Agama atau Kem...   \n",
       "\n",
       "                                     cleaned_content  \\\n",
       "0  jakarta kompas com presiden joko widodo memaka...   \n",
       "1  tempo co jakarta amnesty international indones...   \n",
       "2  stasiun kereta cepat whoosh di halim jakarta t...   \n",
       "3  jakarta kompas com komisi pemilihan umum kpu r...   \n",
       "4  tempo co jakarta kementerian agama atau kemena...   \n",
       "\n",
       "                                              tokens  \\\n",
       "0  ['jakarta', 'kompas', 'com', 'presiden', 'joko...   \n",
       "1  ['tempo', 'co', 'jakarta', 'amnesty', 'interna...   \n",
       "2  ['stasiun', 'kereta', 'cepat', 'whoosh', 'di',...   \n",
       "3  ['jakarta', 'kompas', 'com', 'komisi', 'pemili...   \n",
       "4  ['tempo', 'co', 'jakarta', 'kementerian', 'aga...   \n",
       "\n",
       "                                           stopwords  \\\n",
       "0  ['jakarta', 'kompas', 'com', 'presiden', 'joko...   \n",
       "1  ['tempo', 'co', 'jakarta', 'amnesty', 'interna...   \n",
       "2  ['stasiun', 'kereta', 'cepat', 'whoosh', 'hali...   \n",
       "3  ['jakarta', 'kompas', 'com', 'komisi', 'pemili...   \n",
       "4  ['tempo', 'co', 'jakarta', 'kementerian', 'aga...   \n",
       "\n",
       "                                             stemmed  \n",
       "0  ['jakarta', 'kompas', 'com', 'presiden', 'joko...  \n",
       "1  ['tempo', 'co', 'jakarta', 'amnesty', 'interna...  \n",
       "2  ['stasiun', 'kereta', 'cepat', 'whoosh', 'hali...  \n",
       "3  ['jakarta', 'kompas', 'com', 'komisi', 'pilih'...  \n",
       "4  ['tempo', 'co', 'jakarta', 'menteri', 'agama',...  "
      ]
     },
     "execution_count": 1,
     "metadata": {},
     "output_type": "execute_result"
    }
   ],
   "source": [
    "import pandas as pd\n",
    "\n",
    "# Load dataset yang sudah di preprocess\n",
    "dataset = pd.read_csv('data/dataset_cleaned.csv')\n",
    "dataset.head()\n"
   ]
  },
  {
   "cell_type": "code",
   "execution_count": 2,
   "id": "b7ceb891",
   "metadata": {},
   "outputs": [
    {
     "name": "stdout",
     "output_type": "stream",
     "text": [
      "Jumlah token dalam sampel: 3868\n"
     ]
    }
   ],
   "source": [
    "# Menghitung jumlah token dalam sampel dari kolom 'stemmed'\n",
    "sample_stemmed = dataset['stemmed'].sample(1).values[0]\n",
    "count_tokens = len(sample_stemmed)\n",
    "\n",
    "print(f\"Jumlah token dalam sampel: {count_tokens}\")"
   ]
  },
  {
   "cell_type": "code",
   "execution_count": 3,
   "id": "e778b561",
   "metadata": {},
   "outputs": [
    {
     "name": "stdout",
     "output_type": "stream",
     "text": [
      "Sampel teks: ['menlu', 'ri', 'retno', 'marsudi', 'hadir', 'temu', 'ke', 'joint', 'commission', 'on', 'bilateral', 'cooperation', 'jcbc', 'hanoi', 'vietnam', 'temu', 'pimpin', 'menteri', 'negeri', 'vietnam', 'dasar', 'terang', 'pers', 'rabu', 'hadir', 'temu', 'jcbc', 'menlu', 'retno', 'undang', 'salah', 'bicara', 'kunci', 'asean', 'future', 'forum', 'kunjung', 'hormat', 'perdana', 'menteri', 'pm', 'vietnam', 'asean', 'future', 'forum', 'selenggara', 'vietnam', 'platform', 'tukar', 'pandang', 'ide', 'asean', 'bentuk', 'track', 'libat', 'wakil', 'perintah', 'pakar', 'akademisi', 'praktisi', 'usaha', 'forum', 'angkat', 'tema', 'toward', 'fast', 'and', 'sustainable', 'growth', 'of', 'peoplecentered', 'community', \"'\", 'kepala', 'perintah', 'hadir', 'acara', 'buka', 'perdana', 'menteri', 'vietnam', 'perdana', 'menteri', 'laos', 'ketua', 'asean', 'perdana', 'menteri', 'malaysia', 'next', 'chair', 'asean', 'sekjen', 'pbb', 'sambut', 'pesan', 'video', 'undang', 'lead', 'speaker', 'sesi', 'tema', 'ensuring', 'comprehensive', 'security', 'for', 'peoplecentered', 'asean', 'community', 'pidato', 'asean', 'isu', 'aman', 'cerita', 'asean', 'isu', 'aman', 'cakup', 'dimensi', 'aspek', 'militer', 'politik', 'sosial', 'ekonomi', 'lingkung', 'isu', 'aman', 'tangan', 'komprehensif', 'retno', 'terang', 'tulis', 'retno', 'lanskap', 'aman', 'kawasan', 'global', 'ubah', 'cepat', 'rivalitas', 'kuat', 'perang', 'lanjut', 'ukraina', 'gaza', 'konflik', 'myanmar', 'tantang', 'ubah', 'iklim', 'tahan', 'pangan', 'energi', 'tingkat', 'jahat', 'lintas', 'batas', 'retno', 'maju', 'teknologi', 'artificial', 'intelligence', 'big', 'data', 'sisi', 'bawa', 'manfaat', 'sisi', 'tantang', 'aman', 'respons', 'inovatif', 'adaptif', 'tren', 'dampak', 'dunia', 'tentu', 'asean', 'pikir', 'asean', 'tumbuh', 'situasi', 'ubah', 'retno', 'nilai', 'asean', 'peran', 'pimpin', 'kembang', 'arsitektur', 'kerja', 'indopasifik', 'tekan', 'asean', 'kuat', 'satu', 'asean', 'relevan', 'asean', 'matters', 'peran', 'sentral', 'kawasan', 'asean', 'respons', 'tantang', 'kawasan', 'sigap', 'asean', 'indopasifik', 'kawasan', 'damai', 'buka', 'inklusif', 'depan', 'dialog', 'kolaborasi', 'konkret', 'dekat', 'winwin', 'dekat', 'zerosum', 'hormat', 'implementasi', 'hukum', 'internasional', 'konsisten', 'retno', 'pengarusutamaan', 'implementasi', 'asean', 'outlook', 'on', 'the', 'indopacific', 'mekanisme', 'asean', 'refleksi', 'ketua', 'indonesia', 'temanteman', 'selenggara', 'aseanindo', 'pacific', 'forum', 'kuat', 'hubung', 'pacific', 'island', 'forum', 'indian', 'ocean', 'rim', 'association', 'iora', 'retno', 'asean', 'milik', 'dekat', 'komprehensif', 'isu', 'aman', 'isu', 'tahan', 'pangan', 'energi', 'uang', 'proyeksi', 'tantang', 'ekonomi', 'utama', 'hadap', 'asean', 'saksi', 'konflik', 'ukraina', 'ubah', 'iklim', 'pandemi', 'covid', 'parah', 'tantang', 'sosial', 'ekonomi', 'situasi', 'gaza', 'palestina', 'cipta', 'parah', 'ketidakadilan', 'ketidakpastian', 'retno', 'ketua', 'indonesia', 'asean', 'indonesia', 'dorong', 'kuat', 'kerja', 'sektor', 'tahan', 'pangan', 'energi', 'uang', 'indonesia', 'kokoh', 'tahan', 'sosialekonomi', 'asean', 'sambung', 'retno', 'asean', 'atas', 'risiko', 'aman', 'timbul', 'digitalisasi', 'kembang', 'teknologi', 'kini', 'ai', 'dorong', 'tentu', 'tata', 'kelola', 'digital', 'global', 'jembatan', 'digital', 'vide', 'kuat', 'digital', 'literacy', 'turut', 'transformasi', 'digital', 'force', 'enabler', 'for', 'the', 'global', 'common', 'good', \"'\", 'kuat', 'raih', 'baik', 'global', 'pidato', 'tekan', 'kerja', 'kolektif', 'atas', 'aman', 'kawasan', 'global', 'atas', 'tantang', 'tekan', 'proses', 'inklusif', 'kembang', 'visi', 'komunitas', 'asean', 'perhati', 'suara', 'penting', 'masyarakat', 'asean', 'simak', 'video', 'ktt', 'aseanaustralia', 'jokowi', 'tekan', 'gencat', 'senjata', 'gaza', \"'\", 'gambas', 'video', 'detik', 'simak', 'lengkap', 'halaman']\n"
     ]
    }
   ],
   "source": [
    "# Print sampel untuk verifikasi\n",
    "print(f\"Sampel teks: {sample_stemmed}\")"
   ]
  },
  {
   "cell_type": "code",
   "execution_count": 4,
   "id": "3a754bcb",
   "metadata": {},
   "outputs": [],
   "source": [
    "import ast  # Abstract Syntax Trees\n",
    "\n",
    "def parse_tokens(cell):\n",
    "    # Jika sudah list, tidak perlu parse\n",
    "    if isinstance(cell, list):\n",
    "        return cell\n",
    "    try:\n",
    "        return ast.literal_eval(cell)  # Konversi dari string ke list\n",
    "    except Exception:\n",
    "        return []\n",
    "\n",
    "clean_corpus = dataset['stemmed'].apply(parse_tokens).tolist()\n"
   ]
  },
  {
   "cell_type": "code",
   "execution_count": 5,
   "id": "7dfc35da",
   "metadata": {},
   "outputs": [
    {
     "name": "stdout",
     "output_type": "stream",
     "text": [
      "['jakarta', 'kompas', 'com', 'presiden', 'joko', 'widodo', 'pakai', 'baju', 'adat', 'betawi', 'hadir', 'sidang', 'tahun', 'mpr', 'ri', 'sidang', 'dpr', 'ri', 'dpd', 'ri', 'kompleks', 'perlemen', 'senayan', 'jakarta', 'jumat', 'baju', 'kena', 'presiden', 'pakai', 'adat', 'bangsawan', 'ujung', 'serong', 'betawi', 'pakai', 'wana', 'hitam', 'lengkap', 'peci', 'hitam', 'deputi', 'ii', 'kepala', 'staf', 'presiden', 'ksp', 'abetnego', 'tarigan', 'pakai', 'adat', 'betawi', 'kena', 'presiden', 'kali', 'makna', 'terima', 'kasih', 'kota', 'jakarta', 'presiden', 'makna', 'pakai', 'adat', 'betawi', 'simbol', 'terima', 'kasih', 'kota', 'jakarta', 'resmi', 'kota', 'abetnego', 'terang', 'resmi', 'ksp', 'jumat', 'kota', 'indonesia', 'pindah', 'kota', 'nusantara', 'ikn', 'kalimantan', 'timur', 'bangun', 'era', 'jokowi', 'abetnego', 'pakai', 'adat', 'kali', 'pilih', 'presiden', 'pakai', 'cermin', 'nilainilai', 'sopan', 'taat', 'agama', 'kuat', 'bijaksana', 'simbol', 'warna', 'motif', 'berani', 'bijaksana', 'hormat', 'budaya', 'betawi', 'betawi', 'representasi', 'wajah', 'indonesia', 'indonesia', 'merdeka', 'akulturasi', 'kuat', 'suku', 'bangsa', 'indonesia', 'alas', 'filosofis', 'baju', 'adat', 'betawi', 'juang', 'hadap', 'tantang', 'bangsa', 'maju', 'indonesia', 'hal', 'pakai', 'tahan', 'lintas', 'zaman', 'bangsa', 'indonesia', 'tangguh', 'gigih', 'bangun', 'negeri', 'cermin', 'nilainilai', 'luhur', 'abetnego']\n",
      "<class 'list'>\n"
     ]
    }
   ],
   "source": [
    "print(clean_corpus[0])\n",
    "print(type(clean_corpus[0]))  # Harusnya: <class 'list'>"
   ]
  },
  {
   "cell_type": "code",
   "execution_count": 6,
   "id": "9742570d",
   "metadata": {},
   "outputs": [],
   "source": [
    "from gensim.models import Word2Vec\n",
    "import multiprocessing\n",
    "\n",
    "# Fungsi untuk membuat model Word2Vec yang dioptimalkan\n",
    "def create_optimized_word2vec(clean_corpus):\n",
    "    # Gunakan semua CPU cores yang tersedia\n",
    "    cores = multiprocessing.cpu_count()\n",
    "    \n",
    "    model = Word2Vec(\n",
    "        sentences=clean_corpus,   # Input corpus yang sudah dibersihkan\n",
    "        vector_size=300,          # Optimal untuk dataset menengah\n",
    "        window=8,                 # Lebih besar untuk konteks yang lebih kaya\n",
    "        min_count=1,              # Filter kata yang jarang muncul\n",
    "        workers=cores,            # Gunakan semua CPU cores\n",
    "        sg=0,                     # CBOW lebih efisien untuk dataset besar\n",
    "        epochs=15,                # Lebih banyak iterasi untuk konvergensi yang baik\n",
    "        alpha=0.03,               # Learning rate awal yang sedikit lebih tinggi\n",
    "        min_alpha=0.0001,         # Learning rate minimum\n",
    "        negative=10,              # Negative sampling untuk efisiensi\n",
    "        sample=1e-4,              # Subsampling untuk kata frekuensi tinggi\n",
    "        seed=42,                  # Reproducibility\n",
    "        compute_loss=True         # Monitor training loss\n",
    "    )\n",
    "    \n",
    "    return model\n",
    "\n",
    "# Membuat model Word2Vec yang dioptimalkan\n",
    "optimized_model = create_optimized_word2vec(clean_corpus)\n",
    "\n",
    "# Menyimpan model Word2Vec yang telah dioptimalkan\n",
    "optimized_model.save('models/optimized_word2vec.model')"
   ]
  },
  {
   "cell_type": "code",
   "execution_count": 7,
   "id": "064c29cf",
   "metadata": {},
   "outputs": [],
   "source": [
    "# Load model untuk verifikasi\n",
    "loaded_model = Word2Vec.load('models/optimized_word2vec.model')"
   ]
  },
  {
   "cell_type": "code",
   "execution_count": 8,
   "id": "71ed3a50",
   "metadata": {},
   "outputs": [
    {
     "name": "stdout",
     "output_type": "stream",
     "text": [
      "Ukuran vocab: 91064\n",
      "Contoh kata dalam vocab: ['jakarta', 'partai', 'presiden', 'indonesia', 'calon', 'jokowi', 'ketua', 'pilih', 'menteri', 'pilkada']\n"
     ]
    }
   ],
   "source": [
    "print(f\"Ukuran vocab: {len(loaded_model.wv)}\")\n",
    "print(\"Contoh kata dalam vocab:\", list(loaded_model.wv.key_to_index.keys())[:10])\n"
   ]
  },
  {
   "cell_type": "code",
   "execution_count": 11,
   "id": "365765ab",
   "metadata": {},
   "outputs": [
    {
     "name": "stdout",
     "output_type": "stream",
     "text": [
      "Vektor untuk 'jakarta': [ 0.8845782  -1.1377612   0.75743014  0.98872    -0.3198478   1.5770828\n",
      " -1.1704919   1.1291248  -0.09854792 -2.0385497  -0.24832185  0.90486366\n",
      " -0.05534348  0.36440158  0.4887613  -0.80030847 -1.6588353  -0.6436584\n",
      " -0.02848139 -0.12216101 -0.18647006  0.3845906   0.94456035 -0.03543079\n",
      " -0.20502087  0.5716528   0.42940426  1.0049309   0.53084993 -0.22845027\n",
      " -0.82152086 -0.65653133 -1.909889   -0.95142007  0.20773289 -1.0965948\n",
      "  0.67338127 -0.5710747  -0.04736051 -0.4648871  -0.78767383  0.45793748\n",
      "  1.1572093  -0.20458615 -1.2000352   2.326007   -1.2411005   0.1302657\n",
      " -0.09793968  0.29744586 -0.9304253   1.9955337  -1.0759678   2.3765516\n",
      " -0.20091279  0.00531477  2.0450976  -0.53342295 -0.2023012   0.58619636\n",
      "  0.83478135  0.4637966  -0.40470973 -1.1420985  -0.16869108 -0.1489583\n",
      " -0.02400793 -0.14663969  0.3275555   0.24188237 -0.262238   -0.01529647\n",
      " -0.14345632 -0.56923586 -1.0847385  -0.9434589  -0.11700175  0.02248884\n",
      " -0.4752877   0.8793013  -0.67687213 -0.68218327  0.11411372 -0.13619024\n",
      "  0.25952366 -0.58475965 -1.0683551  -0.5650035   1.1958854   0.74594504\n",
      "  0.10391379 -1.4162169   1.8592895   1.0376519  -0.9187829  -0.56246895\n",
      " -0.53603274 -0.15121387  0.8850747  -0.44245616  0.03321229  0.60998887\n",
      "  1.0199524  -0.14138082  0.65796703 -0.13813189  0.38170242 -0.2514635\n",
      "  0.81751615 -0.7397578  -1.4757215  -0.38990408  1.362043    0.2591599\n",
      "  0.11639304  0.15061527 -0.14345801 -1.5442096  -0.25722036 -0.46774116\n",
      "  0.09507063 -0.34863257  1.3681873   0.12280945 -0.23787905  0.04144427\n",
      " -2.3025753   1.1857806  -0.18831372 -0.9835682  -0.1211025  -0.04043562\n",
      "  0.9138497   0.31878003  1.130691   -0.23715013 -1.0696288   2.0413666\n",
      " -2.0232084   1.0120727   0.3696706   1.1590296  -0.12039954  0.46602964\n",
      "  0.07633421  1.2528476  -0.3998474  -2.119773    0.5707466  -1.0820934\n",
      "  0.26056892  0.36023644 -0.3658393   0.26841232  0.65836304 -0.49165028\n",
      " -0.612291   -0.5244282   1.9367793   0.33957046  0.11312588 -0.6618965\n",
      "  0.10539436 -0.5495669   0.24241596 -1.8094295  -0.84477025 -0.77076626\n",
      "  0.18265992 -1.5069405   0.37864175  0.06561035 -0.07791679 -0.06914074\n",
      " -0.01502157 -0.02503876  0.6510373  -0.2100327   1.1494516   0.23642725\n",
      " -0.1898657  -1.4195848   0.58846784  0.63618714 -1.0669171   0.8454215\n",
      " -0.10253492 -0.9427004  -0.7121673  -0.65626395 -0.7260845  -0.7944553\n",
      "  0.46265692 -0.1959698   0.28663698 -0.6735549   0.11188407 -1.3748039\n",
      "  0.2718356  -0.80967593 -1.978806    1.2332356   1.4646657  -0.6572499\n",
      "  1.051414   -1.5885223   1.5160246   2.0430162  -0.80602527 -0.2883363\n",
      " -0.60473365  2.1224847   0.99790126 -2.076354    0.5697859  -1.5068544\n",
      "  0.4854929  -0.5863829  -0.26160303  0.5885956  -0.32389903  0.939986\n",
      "  0.76721    -0.27434748 -0.14198068 -0.29003748  0.0027744   0.29520395\n",
      "  0.18313438 -1.06102    -1.2327795   1.0076045  -1.624479    0.667208\n",
      " -0.03162626 -1.0387394  -0.3234423  -1.1331762   0.46003157  2.2671363\n",
      "  0.81951374  0.21416366  0.10065965  0.8461705  -0.12803869 -0.21700034\n",
      "  0.7074567  -0.076663    1.2373934  -0.2950838   0.33159882 -0.4155486\n",
      "  0.36401474  0.77677006 -0.91507345 -0.22599225  1.3025509  -1.0647955\n",
      " -0.69466645  0.9936499   1.3378918  -1.6863836   0.18120421  0.81135184\n",
      "  1.1040274   0.36024955  1.5785964  -0.39772686  1.9180057   0.6306027\n",
      " -0.41246912  0.3593673  -0.02917414  0.5004239  -0.13909149 -0.47237092\n",
      " -0.24941419  0.80988944 -1.5984188  -0.6206301  -0.8105044   1.2391472\n",
      " -0.44627687 -0.51395667 -0.18997553  1.8284754  -0.91179615 -2.0861487\n",
      " -0.3924926   0.29834956 -0.91675013 -0.35110268 -0.75876313 -0.23333211\n",
      "  0.3452922   0.78333604  1.397958    1.2890252  -1.312873   -0.19163594]\n"
     ]
    }
   ],
   "source": [
    "# Menguji model dengan mengambil vektor untuk kata tertentu\n",
    "test_word = 'jakarta'\n",
    "if test_word in optimized_model.wv:\n",
    "    vector = optimized_model.wv[test_word]\n",
    "    print(f\"Vektor untuk '{test_word}': {vector}\")\n",
    "else:\n",
    "    print(f\"Kata '{test_word}' tidak ditemukan dalam model.\")"
   ]
  }
 ],
 "metadata": {
  "kernelspec": {
   "display_name": "python",
   "language": "python",
   "name": "python3"
  },
  "language_info": {
   "codemirror_mode": {
    "name": "ipython",
    "version": 3
   },
   "file_extension": ".py",
   "mimetype": "text/x-python",
   "name": "python",
   "nbconvert_exporter": "python",
   "pygments_lexer": "ipython3",
   "version": "3.10.12"
  }
 },
 "nbformat": 4,
 "nbformat_minor": 5
}
