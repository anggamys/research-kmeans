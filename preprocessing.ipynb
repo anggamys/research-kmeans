{
 "cells": [
  {
   "cell_type": "code",
   "execution_count": 1,
   "id": "1e4a4d3a",
   "metadata": {},
   "outputs": [
    {
     "data": {
      "text/html": [
       "<div>\n",
       "<style scoped>\n",
       "    .dataframe tbody tr th:only-of-type {\n",
       "        vertical-align: middle;\n",
       "    }\n",
       "\n",
       "    .dataframe tbody tr th {\n",
       "        vertical-align: top;\n",
       "    }\n",
       "\n",
       "    .dataframe thead th {\n",
       "        text-align: right;\n",
       "    }\n",
       "</style>\n",
       "<table border=\"1\" class=\"dataframe\">\n",
       "  <thead>\n",
       "    <tr style=\"text-align: right;\">\n",
       "      <th></th>\n",
       "      <th>Judul</th>\n",
       "      <th>Waktu</th>\n",
       "      <th>Link</th>\n",
       "      <th>Content</th>\n",
       "      <th>tag1</th>\n",
       "      <th>tag2</th>\n",
       "      <th>tag3</th>\n",
       "      <th>tag4</th>\n",
       "      <th>tag5</th>\n",
       "      <th>source</th>\n",
       "    </tr>\n",
       "  </thead>\n",
       "  <tbody>\n",
       "    <tr>\n",
       "      <th>0</th>\n",
       "      <td>Jokowi Kenakan Pakaian Adat Betawi di Sidang T...</td>\n",
       "      <td>16/08/2024</td>\n",
       "      <td>https://nasional.kompas.com/read/2024/08/16/11...</td>\n",
       "      <td>JAKARTA, KOMPAS.com - Presiden Joko Widodo me...</td>\n",
       "      <td>Presiden Jokowi</td>\n",
       "      <td>Jokowi</td>\n",
       "      <td>sidang tahunan MPR RI 2024</td>\n",
       "      <td>Jokowi adat Betawi sidang mpr 2024</td>\n",
       "      <td>Megawati tak hadiri sidang tahunan MPR 2024</td>\n",
       "      <td>kompas</td>\n",
       "    </tr>\n",
       "    <tr>\n",
       "      <th>1</th>\n",
       "      <td>Amnesty International Beberkan 6 Indikator Kri...</td>\n",
       "      <td>2024-07-18</td>\n",
       "      <td>https://nasional.tempo.co/read/1893144/amnesty...</td>\n",
       "      <td>TEMPO.CO, Jakarta - Amnesty International Indo...</td>\n",
       "      <td>Amnesty International</td>\n",
       "      <td>Amnesty International Indonesia</td>\n",
       "      <td>Kebebasan Berpendapat</td>\n",
       "      <td>Indeks Demokrasi</td>\n",
       "      <td>Revisi UU TNI</td>\n",
       "      <td>tempo</td>\n",
       "    </tr>\n",
       "    <tr>\n",
       "      <th>2</th>\n",
       "      <td>Jelang Long Weekend, Stasiun Kereta Cepat Hali...</td>\n",
       "      <td>Rabu, 08 Mei  2024 19:18 WIB</td>\n",
       "      <td>https://news.detik.com/berita/d-7331666/jelang...</td>\n",
       "      <td>Stasiun kereta cepat Whoosh di Halim, Jakarta ...</td>\n",
       "      <td>kereta cepat whoosh</td>\n",
       "      <td>stasiun halim</td>\n",
       "      <td>long weekend</td>\n",
       "      <td>NaN</td>\n",
       "      <td>NaN</td>\n",
       "      <td>detik</td>\n",
       "    </tr>\n",
       "    <tr>\n",
       "      <th>3</th>\n",
       "      <td>KPU Tegaskan Pemilih Tak Terdaftar di DPT Bisa...</td>\n",
       "      <td>13/02/2024</td>\n",
       "      <td>https://nasional.kompas.com/read/2024/02/13/21...</td>\n",
       "      <td>JAKARTA, KOMPAS.com - Komisi Pemilihan Umum (...</td>\n",
       "      <td>KPU</td>\n",
       "      <td>pemilu 2024</td>\n",
       "      <td>Hasyim Asy'ari</td>\n",
       "      <td>NaN</td>\n",
       "      <td>NaN</td>\n",
       "      <td>kompas</td>\n",
       "    </tr>\n",
       "    <tr>\n",
       "      <th>4</th>\n",
       "      <td>Kemenag Luncurkan Gerakan Senam Haji Jaga Keta...</td>\n",
       "      <td>2024-04-29</td>\n",
       "      <td>https://nasional.tempo.co/read/1861810/kemenag...</td>\n",
       "      <td>TEMPO.CO, Jakarta - Kementerian Agama atau Kem...</td>\n",
       "      <td>Senam Haji</td>\n",
       "      <td>Kemenag</td>\n",
       "      <td>Jemaah Haji</td>\n",
       "      <td>Ibadah Haji</td>\n",
       "      <td>Asrama Haji</td>\n",
       "      <td>tempo</td>\n",
       "    </tr>\n",
       "  </tbody>\n",
       "</table>\n",
       "</div>"
      ],
      "text/plain": [
       "                                               Judul  \\\n",
       "0  Jokowi Kenakan Pakaian Adat Betawi di Sidang T...   \n",
       "1  Amnesty International Beberkan 6 Indikator Kri...   \n",
       "2  Jelang Long Weekend, Stasiun Kereta Cepat Hali...   \n",
       "3  KPU Tegaskan Pemilih Tak Terdaftar di DPT Bisa...   \n",
       "4  Kemenag Luncurkan Gerakan Senam Haji Jaga Keta...   \n",
       "\n",
       "                          Waktu  \\\n",
       "0                    16/08/2024   \n",
       "1                    2024-07-18   \n",
       "2  Rabu, 08 Mei  2024 19:18 WIB   \n",
       "3                    13/02/2024   \n",
       "4                    2024-04-29   \n",
       "\n",
       "                                                Link  \\\n",
       "0  https://nasional.kompas.com/read/2024/08/16/11...   \n",
       "1  https://nasional.tempo.co/read/1893144/amnesty...   \n",
       "2  https://news.detik.com/berita/d-7331666/jelang...   \n",
       "3  https://nasional.kompas.com/read/2024/02/13/21...   \n",
       "4  https://nasional.tempo.co/read/1861810/kemenag...   \n",
       "\n",
       "                                             Content                   tag1  \\\n",
       "0   JAKARTA, KOMPAS.com - Presiden Joko Widodo me...        Presiden Jokowi   \n",
       "1  TEMPO.CO, Jakarta - Amnesty International Indo...  Amnesty International   \n",
       "2  Stasiun kereta cepat Whoosh di Halim, Jakarta ...    kereta cepat whoosh   \n",
       "3   JAKARTA, KOMPAS.com - Komisi Pemilihan Umum (...                    KPU   \n",
       "4  TEMPO.CO, Jakarta - Kementerian Agama atau Kem...             Senam Haji   \n",
       "\n",
       "                               tag2                        tag3  \\\n",
       "0                            Jokowi  sidang tahunan MPR RI 2024   \n",
       "1  Amnesty International Indonesia        Kebebasan Berpendapat   \n",
       "2                     stasiun halim                long weekend   \n",
       "3                       pemilu 2024              Hasyim Asy'ari   \n",
       "4                           Kemenag                 Jemaah Haji   \n",
       "\n",
       "                                 tag4  \\\n",
       "0  Jokowi adat Betawi sidang mpr 2024   \n",
       "1                   Indeks Demokrasi    \n",
       "2                                 NaN   \n",
       "3                                 NaN   \n",
       "4                         Ibadah Haji   \n",
       "\n",
       "                                          tag5  source  \n",
       "0  Megawati tak hadiri sidang tahunan MPR 2024  kompas  \n",
       "1                                Revisi UU TNI   tempo  \n",
       "2                                          NaN   detik  \n",
       "3                                          NaN  kompas  \n",
       "4                                  Asrama Haji   tempo  "
      ]
     },
     "execution_count": 1,
     "metadata": {},
     "output_type": "execute_result"
    }
   ],
   "source": [
    "import pandas as pd\n",
    "\n",
    "# Memuat dataset yang akan digunakan\n",
    "dataset = pd.read_csv('./data/politik_merge.csv')\n",
    "\n",
    "# Overview dari dataset\n",
    "dataset.head()"
   ]
  },
  {
   "cell_type": "code",
   "execution_count": 2,
   "id": "4ab7b1ef",
   "metadata": {},
   "outputs": [
    {
     "data": {
      "text/plain": [
       "(45781, 10)"
      ]
     },
     "execution_count": 2,
     "metadata": {},
     "output_type": "execute_result"
    }
   ],
   "source": [
    "# Jumlah baris dan kolom dalam dataset\n",
    "dataset.shape"
   ]
  },
  {
   "cell_type": "code",
   "execution_count": 3,
   "id": "51cbe59b",
   "metadata": {},
   "outputs": [
    {
     "name": "stdout",
     "output_type": "stream",
     "text": [
      "<class 'pandas.core.frame.DataFrame'>\n",
      "RangeIndex: 45781 entries, 0 to 45780\n",
      "Data columns (total 10 columns):\n",
      " #   Column   Non-Null Count  Dtype \n",
      "---  ------   --------------  ----- \n",
      " 0   Judul    45746 non-null  object\n",
      " 1   Waktu    45781 non-null  object\n",
      " 2   Link     45779 non-null  object\n",
      " 3   Content  45742 non-null  object\n",
      " 4   tag1     45703 non-null  object\n",
      " 5   tag2     45550 non-null  object\n",
      " 6   tag3     41213 non-null  object\n",
      " 7   tag4     31040 non-null  object\n",
      " 8   tag5     19892 non-null  object\n",
      " 9   source   45709 non-null  object\n",
      "dtypes: object(10)\n",
      "memory usage: 3.5+ MB\n"
     ]
    }
   ],
   "source": [
    "# Informasi lebih lanjut tentang dataset\n",
    "dataset.info()"
   ]
  },
  {
   "cell_type": "code",
   "execution_count": 4,
   "id": "f5875bc6",
   "metadata": {},
   "outputs": [
    {
     "data": {
      "text/html": [
       "<div>\n",
       "<style scoped>\n",
       "    .dataframe tbody tr th:only-of-type {\n",
       "        vertical-align: middle;\n",
       "    }\n",
       "\n",
       "    .dataframe tbody tr th {\n",
       "        vertical-align: top;\n",
       "    }\n",
       "\n",
       "    .dataframe thead th {\n",
       "        text-align: right;\n",
       "    }\n",
       "</style>\n",
       "<table border=\"1\" class=\"dataframe\">\n",
       "  <thead>\n",
       "    <tr style=\"text-align: right;\">\n",
       "      <th></th>\n",
       "      <th>judul</th>\n",
       "      <th>waktu</th>\n",
       "      <th>link</th>\n",
       "      <th>content</th>\n",
       "      <th>tag1</th>\n",
       "      <th>tag2</th>\n",
       "      <th>tag3</th>\n",
       "      <th>tag4</th>\n",
       "      <th>tag5</th>\n",
       "      <th>source</th>\n",
       "    </tr>\n",
       "  </thead>\n",
       "  <tbody>\n",
       "    <tr>\n",
       "      <th>0</th>\n",
       "      <td>Jokowi Kenakan Pakaian Adat Betawi di Sidang T...</td>\n",
       "      <td>16/08/2024</td>\n",
       "      <td>https://nasional.kompas.com/read/2024/08/16/11...</td>\n",
       "      <td>JAKARTA, KOMPAS.com - Presiden Joko Widodo me...</td>\n",
       "      <td>Presiden Jokowi</td>\n",
       "      <td>Jokowi</td>\n",
       "      <td>sidang tahunan MPR RI 2024</td>\n",
       "      <td>Jokowi adat Betawi sidang mpr 2024</td>\n",
       "      <td>Megawati tak hadiri sidang tahunan MPR 2024</td>\n",
       "      <td>kompas</td>\n",
       "    </tr>\n",
       "  </tbody>\n",
       "</table>\n",
       "</div>"
      ],
      "text/plain": [
       "                                               judul       waktu  \\\n",
       "0  Jokowi Kenakan Pakaian Adat Betawi di Sidang T...  16/08/2024   \n",
       "\n",
       "                                                link  \\\n",
       "0  https://nasional.kompas.com/read/2024/08/16/11...   \n",
       "\n",
       "                                             content             tag1    tag2  \\\n",
       "0   JAKARTA, KOMPAS.com - Presiden Joko Widodo me...  Presiden Jokowi  Jokowi   \n",
       "\n",
       "                         tag3                                tag4  \\\n",
       "0  sidang tahunan MPR RI 2024  Jokowi adat Betawi sidang mpr 2024   \n",
       "\n",
       "                                          tag5  source  \n",
       "0  Megawati tak hadiri sidang tahunan MPR 2024  kompas  "
      ]
     },
     "execution_count": 4,
     "metadata": {},
     "output_type": "execute_result"
    }
   ],
   "source": [
    "# Data cleaning\n",
    "\n",
    "# Mengubah nama kolom untuk konsistensi\n",
    "dataset.columns = dataset.columns.str.lower().str.replace(' ', '_')\n",
    "dataset.head(1)"
   ]
  },
  {
   "cell_type": "code",
   "execution_count": 5,
   "id": "6b5fda80",
   "metadata": {},
   "outputs": [
    {
     "data": {
      "text/html": [
       "<div>\n",
       "<style scoped>\n",
       "    .dataframe tbody tr th:only-of-type {\n",
       "        vertical-align: middle;\n",
       "    }\n",
       "\n",
       "    .dataframe tbody tr th {\n",
       "        vertical-align: top;\n",
       "    }\n",
       "\n",
       "    .dataframe thead th {\n",
       "        text-align: right;\n",
       "    }\n",
       "</style>\n",
       "<table border=\"1\" class=\"dataframe\">\n",
       "  <thead>\n",
       "    <tr style=\"text-align: right;\">\n",
       "      <th></th>\n",
       "      <th>content</th>\n",
       "    </tr>\n",
       "  </thead>\n",
       "  <tbody>\n",
       "    <tr>\n",
       "      <th>0</th>\n",
       "      <td>JAKARTA, KOMPAS.com - Presiden Joko Widodo me...</td>\n",
       "    </tr>\n",
       "  </tbody>\n",
       "</table>\n",
       "</div>"
      ],
      "text/plain": [
       "                                             content\n",
       "0   JAKARTA, KOMPAS.com - Presiden Joko Widodo me..."
      ]
     },
     "execution_count": 5,
     "metadata": {},
     "output_type": "execute_result"
    }
   ],
   "source": [
    "# Menghapus kolom yang tidak diperlukan\n",
    "dataset = dataset.drop(columns=['judul', 'waktu', 'link', 'tag1', 'tag2', 'tag3', 'tag4', 'tag5', 'source'])\n",
    "dataset.head(1)"
   ]
  },
  {
   "cell_type": "code",
   "execution_count": 6,
   "id": "136eeff3",
   "metadata": {},
   "outputs": [
    {
     "data": {
      "text/plain": [
       "content    39\n",
       "dtype: int64"
      ]
     },
     "execution_count": 6,
     "metadata": {},
     "output_type": "execute_result"
    }
   ],
   "source": [
    "# Menghitung jumlah nilai yang hilang (missing values) dalam dataset\n",
    "dataset.isna().sum()"
   ]
  },
  {
   "cell_type": "code",
   "execution_count": 7,
   "id": "70f2fa38",
   "metadata": {},
   "outputs": [
    {
     "name": "stdout",
     "output_type": "stream",
     "text": [
      "Rasio nilai yang hilang: content    0.000852\n",
      "dtype: float64\n"
     ]
    }
   ],
   "source": [
    "# Rasio dari nilai yang hilang terhadap total data\n",
    "missing_ratio = dataset.isna().sum() / len(dataset)\n",
    "print(f\"Rasio nilai yang hilang: {missing_ratio}\")"
   ]
  },
  {
   "cell_type": "code",
   "execution_count": 8,
   "id": "4d2686dd",
   "metadata": {},
   "outputs": [
    {
     "data": {
      "text/plain": [
       "content    0\n",
       "dtype: int64"
      ]
     },
     "execution_count": 8,
     "metadata": {},
     "output_type": "execute_result"
    }
   ],
   "source": [
    "# Menhapus baris yang memiliki nilai yang hilang\n",
    "dataset = dataset.dropna()\n",
    "dataset.isna().sum()"
   ]
  },
  {
   "cell_type": "code",
   "execution_count": 9,
   "id": "7eb27553",
   "metadata": {},
   "outputs": [
    {
     "data": {
      "text/html": [
       "<div>\n",
       "<style scoped>\n",
       "    .dataframe tbody tr th:only-of-type {\n",
       "        vertical-align: middle;\n",
       "    }\n",
       "\n",
       "    .dataframe tbody tr th {\n",
       "        vertical-align: top;\n",
       "    }\n",
       "\n",
       "    .dataframe thead th {\n",
       "        text-align: right;\n",
       "    }\n",
       "</style>\n",
       "<table border=\"1\" class=\"dataframe\">\n",
       "  <thead>\n",
       "    <tr style=\"text-align: right;\">\n",
       "      <th></th>\n",
       "      <th>content</th>\n",
       "      <th>cleaned_content</th>\n",
       "    </tr>\n",
       "  </thead>\n",
       "  <tbody>\n",
       "    <tr>\n",
       "      <th>0</th>\n",
       "      <td>JAKARTA, KOMPAS.com - Presiden Joko Widodo me...</td>\n",
       "      <td>jakarta, kompas.com - presiden joko widodo me...</td>\n",
       "    </tr>\n",
       "  </tbody>\n",
       "</table>\n",
       "</div>"
      ],
      "text/plain": [
       "                                             content  \\\n",
       "0   JAKARTA, KOMPAS.com - Presiden Joko Widodo me...   \n",
       "\n",
       "                                     cleaned_content  \n",
       "0   jakarta, kompas.com - presiden joko widodo me...  "
      ]
     },
     "execution_count": 9,
     "metadata": {},
     "output_type": "execute_result"
    }
   ],
   "source": [
    "# Mengubah karakter huruf menjadi lowercase untuk konsistensi\n",
    "dataset['cleaned_content'] = dataset['content'].str.lower()\n",
    "dataset.head(1)"
   ]
  },
  {
   "cell_type": "code",
   "execution_count": 10,
   "id": "9b6b123b",
   "metadata": {},
   "outputs": [
    {
     "name": "stdout",
     "output_type": "stream",
     "text": [
      "gubernur yogyakarta sri sultan hamengku buwono  mengaku diminta presiden joko widodo jokowi menjembatani pertemuan dengan ketum pdip megawati soekarnoputri cawapres nomor urut  mahfud md mengaku tak tahu mengenai permintaan tersebut nggak tahu saya nggak minta ke saya menjembatani kata mahfud di sleman yogyakarta selasa  mahfud menuturkan dirinya tidak sempat berbincang atau berdiskusi dengan sultan hamengku buwono  terkait hal itu mahfud menyampaikan hanya mengobrol dengan beberapa tokoh namun tak bicara soal politik enggak enggak ngobrol itu sama tokohtokoh yang besar itu kan nggak enak bicara politik kan mereka udah punya pandangan sendiri dan kita bisa membaca dan beliau juga bisa membaca saya komunikasi dari batin hehehe tuturnya mahfud mengaku kerap bertemu dan makan bareng sultan hamengku buwono  namun sebelum pemilu dia menyebut saat sudah ditetapkan sebagai cawapres komunikasi keduanya diatur nggak pernah ngomong langsung yang begitu saya dengan sultan kan sudah lama kalau sebelum pemilu malah sebelum kontestasi ya saya itu sering makan bersama sultan entah jakarta entah di keraton sini tapi begitu saya muncul sebagai cawapres kita ngatur lah hubungannya batin aja dulu ujarnyapernyataan sultan dilansir detikjogja beredar kabar jokowi meminta sultan hb  untuk memfasilitasi pertemuan dengan megawati permintaan jokowi ke sultan tersebut diutarakan kunjungan jokowi ke jogja beberapa waktu lalu dalam kunjungan itu jokowi sempat bertemu dengan sultan di keraton jogja saat dimintai konfirmasi awak media sultan tak menampik kabar yang beredar tersebut sultan menyebut semua keputusan ada di tangan jokowi betul tapi saya kan nunggu presiden kan saya akan menjembatani tapi ya terserah presiden itu aja jelas sultan saat ditemui wartawan di kantornya senin  ya nunggu kalau emang presiden memerlukan saya bersedia kan hanya itu kalau nggak ya nggak apaapa udah itu aja ujar sultan menambahkan sultan menyebut dalam hal ini ia mengaku akan bersikap pasif soal jadi atau tidaknya pertemuan jokowi dengan megawati sultan berpendapat tergantung inisiatif dari jokowi berarti kan bukan saya yang mengambil inisiatif to yang ambil inisiatif kan bapak presiden sendiri ya terserah bapak presiden mau perlu ketemu mbak mega yang mau saya fasilitasi ndak kan gitu ujar sultan kalau bisa ketemu sendiri kan ya syukur tapi kalau saya kan sifatnya pasif ya kalau presiden ndak tolong mbok saya dianter misalnya gitu nggak ada ya nggak to ya terserah bapak presiden sendiri saya kan pasif bukan ngoyakoyak mengejar pungkas sultan\n"
     ]
    }
   ],
   "source": [
    "# Menghapus karakter yang tidak diperlukan\n",
    "import re\n",
    "\n",
    "def clean_text(text):\n",
    "    text = re.sub(r'http\\S+|www\\S+|https\\S+', '', text, flags=re.MULTILINE)  # Menghapus URL\n",
    "    text = re.sub(r'\\@\\w+|\\#', '', text)  # Menghapus mention dan hashtag\n",
    "    text = re.sub(r'[^\\w\\s]', '', text)  # Menghapus karakter khusus\n",
    "    text = re.sub(r'\\s+', ' ', text).strip()  # Menghapus spasi ganda\n",
    "    text = re.sub(r'\\d+', '', text)  # Menghapus angka\n",
    "    text = re.sub(r'\\b\\w{1}\\b', '', text)  # Menghapus kata pendek\n",
    "    \n",
    "    return text\n",
    "\n",
    "dataset['cleaned_content'] = dataset['cleaned_content'].apply(clean_text)\n",
    "print(dataset['cleaned_content'].sample(1).values[0])"
   ]
  },
  {
   "cell_type": "code",
   "execution_count": 11,
   "id": "97162534",
   "metadata": {},
   "outputs": [
    {
     "name": "stderr",
     "output_type": "stream",
     "text": [
      "[nltk_data] Downloading package punkt_tab to\n",
      "[nltk_data]     /home/c0delb08/nltk_data...\n",
      "[nltk_data]   Unzipping tokenizers/punkt_tab.zip.\n"
     ]
    },
    {
     "name": "stdout",
     "output_type": "stream",
     "text": [
      "['tempoco', 'jakarta', 'koordinator', 'pusat', 'badan', 'eksekutif', 'mahasiswa', 'seluruh', 'indonesia', 'alias', 'bem', 'si', 'herianto', 'mengancam', 'bakal', 'turun', 'ke', 'jalan', 'pada', 'pekan', 'depan', 'mereka', 'akan', 'menuntut', 'menteri', 'pendidikan', 'riset', 'dan', 'teknologi', 'atau', 'kemendikbudristek', 'nadiem', 'makarim', 'mencabut', 'peraturan', 'menteri', 'pendidikan', 'riset', 'dan', 'teknologi', 'permendikbud', 'nomor', 'tahun', 'peraturan', 'menteri', 'tersebut', 'dianggap', 'sebagai', 'biang', 'keladi', 'kenaikkan', 'uang', 'kuliah', 'tunggal', 'ukt', 'dan', 'iuran', 'pengembangan', 'istitusi', 'ipi', 'hasil', 'konsolidasi', 'kami', 'tadi', 'malam', 'sepakat', 'bahwa', 'setiap', 'bem', 'yang', 'bergabung', 'dengan', 'bem', 'si', 'dan', 'lembaga', 'yang', 'lain', 'akan', 'turun', 'aksi', 'ke', 'jalan', 'di', 'depan', 'kementerian', 'pendidikan', 'atau', 'kemendikbud', 'pekan', 'depan', 'kata', 'herianto', 'ketika', 'dihubungi', 'kamis', 'malam', 'mei', 'ini', 'kritik', 'eks', 'wakil', 'presiden', 'jk', 'kepada', 'menteri', 'nadiem', 'makarim', 'mereka', 'belum', 'menentukan', 'tanggal', 'untuk', 'turun', 'ke', 'jalan', 'tapi', 'dipastikan', 'unjuk', 'rasa', 'akan', 'digelar', 'pekan', 'depan', 'sebelum', 'demonstrasi', 'di', 'depan', 'kantor', 'mendikbud', 'nadiem', 'makarim', 'herianto', 'menuturkan', 'akan', 'ada', 'konsolidasi', 'secara', 'langsung', 'atau', 'offline', 'di', 'jakarta', 'demonstrasi', 'ini', 'merupakan', 'bentuk', 'kekecewaan', 'mereka', 'karena', 'ada', 'satu', 'tuntutan', 'yang', 'tak', 'dikabulkan', 'oleh', 'kemendikbud', 'yakni', 'pencabutan', 'permendikbud', 'nomor', 'tahun', 'sebelumnya', 'sejumlah', 'bem', 'dari', 'berbagai', 'kampus', 'melakukan', 'aksi', 'demo', 'menolak', 'kenaikan', 'ukt', 'di', 'kampus', 'masingmasing', 'dan', 'bertemu', 'dpr', 'untuk', 'menyampaikan', 'keluhan', 'mereka', 'terkait', 'kenaikan', 'ukt', 'yang', 'dinilai', 'tak', 'wajar', 'mereka', 'memprotes', 'aturan', 'kemendikbudristek', 'soal', 'ukt', 'adapun', 'aturan', 'itu', 'tertuang', 'dalam', 'peraturan', 'menteri', 'pendidikan', 'kebudayaan', 'riset', 'dan', 'teknologi', 'permendikbudristek', 'nomor', 'tahun', 'tentang', 'standar', 'satuan', 'biaya', 'operasional', 'pendidikan', 'tinggi', 'pada', 'perguruan', 'tinggi', 'negeri', 'di', 'lingkungan', 'kementerian', 'pendidikan', 'kebudayaan', 'riset', 'dan', 'teknologi', 'permendikbudristek', 'ini', 'dinilai', 'sebagai', 'penyebab', 'tarif', 'ukt', 'mengalami', 'kenaikan', 'di', 'sejumlah', 'perguruan', 'tinggi', 'jusuf', 'kalla', 'kritik', 'kinerja', 'mendikbud', 'nadiem', 'makarim', 'tak', 'cukup', 'pengalaman', 'pendidikan', 'karena', 'poin', 'tuntutan', 'yang', 'kami', 'sampaikan', 'di', 'dpr', 'komisi', 'ada', 'poin', 'pencabutan', 'permendikbud', 'nomor', 'tahun', 'pembatalan', 'ukt', 'dan', 'pembatalan', 'ipi', 'yang', 'baru', 'didengar', 'oleh', 'kementerian', 'pak', 'nadiem', 'atau', 'pemerintah', 'jokowi', 'itu', 'baru', 'dua', 'poin', 'pembatalan', 'ukt', 'dan', 'ipi', 'katanya', 'para', 'mahasiswa', 'lanjut', 'herianto', 'merasa', 'bahwa', 'pernyataan', 'yang', 'dikeluarkan', 'oleh', 'jokowi', 'belakangan', 'ini', 'memungkinkan', 'tahun', 'depan', 'akan', 'ada', 'kenaikan', 'ukt', 'sebab', 'yang', 'jadi', 'acuan', 'merupakan', 'peraturan', 'nomor', 'tahun', 'tersebut', 'kami', 'tidak', 'mau', 'membebankan', 'moral', 'kepada', 'generasi', 'selanjutnya', 'untuk', 'mengwal', 'isu', 'ini', 'lagi', 'mumpung', 'isunya', 'masih', 'mencuat', 'pengawalan', 'kami', 'benarbenar', 'konsisten', 'pengawalan', 'secara', 'totalitas', 'ujar', 'herianto']\n"
     ]
    }
   ],
   "source": [
    "import nltk\n",
    "nltk.download('punkt_tab')\n",
    "\n",
    "from nltk.tokenize import word_tokenize\n",
    "\n",
    "# Proses tokenisasi \n",
    "dataset['tokens'] = [word_tokenize(text) for text in dataset['cleaned_content']]\n",
    "print(dataset['tokens'].sample(1).values[0])"
   ]
  },
  {
   "cell_type": "code",
   "execution_count": 12,
   "id": "9991706b",
   "metadata": {},
   "outputs": [
    {
     "name": "stderr",
     "output_type": "stream",
     "text": [
      "[nltk_data] Downloading package stopwords to\n",
      "[nltk_data]     /home/c0delb08/nltk_data...\n",
      "[nltk_data]   Package stopwords is already up-to-date!\n"
     ]
    },
    {
     "name": "stdout",
     "output_type": "stream",
     "text": [
      "['tempoco', 'jakarta', 'deputi', 'politik', 'tim', 'pemenangan', 'nasional', 'ganjarmahfud', 'andi', 'widjajanto', 'calon', 'presiden', 'ganjar', 'pranowo', 'tampil', 'prima', 'debat', 'mengusung', 'tema', 'pertahanan', 'keamanan', 'hubungan', 'internasional', 'geopolitik', 'ahad', 'malam', 'januari', 'relatif', 'anteng', 'tema', 'politik', 'keamanan', 'mas', 'ganjar', 'gubernur', 'jawa', 'memiliki', 'pengalaman', 'pemahaman', 'mendalam', 'terkait', 'tema', 'andi', 'jakarta', 'dikutip', 'keterangan', 'tertulis', 'sabtu', 'januari', 'tim', 'kampanye', 'donald', 'trump', 'cari', 'menangkan', 'suara', 'kalangan', 'kulit', 'hitam', 'andi', 'visimisi', 'ganjarmahfud', 'dinilai', 'berisi', 'tantangan', 'salah', 'menjadikan', 'indonesia', 'poros', 'maritim', 'dunia', 'poros', 'maritim', 'dunia', 'citacita', 'presiden', 'joko', 'widodo', 'diagendakan', 'periode', 'kepemimpinannya', 'andi', 'menilai', 'visi', 'menjadikan', 'indonesia', 'poros', 'maritim', 'dunia', 'terwujud', 'luasnya', 'perairan', 'indonesia', 'posisi', 'indonesia', 'ketua', 'asean', 'andi', 'ganjar', 'menyadari', 'disrupsi', 'konflik', 'geopolitik', 'ukraina', 'vs', 'rusia', 'alutsista', 'perubahan', 'konstelasi', 'geopolitik', 'pertahanan', 'keamanan', 'negeri', 'kritik', 'faisal', 'basri', 'pemerintahan', 'jokowi', 'bansos', 'pilpres', 'kenaikan', 'ppn', 'persen', 'dewan', 'pakar', 'bidang', 'politik', 'tpn', 'ganjarmahfud', 'muhammad', 'as', 'hikam', 'memahami', 'talenta', 'penguasaan', 'pengetahuan', 'ganjar', 'bidang', 'pertahanan', 'keamanan', 'insya', 'allah', 'mas', 'ganjar', 'tampil', 'optimal', 'berpenampilan', 'presidensial', 'debat', 'capres', 'ketiga', 'mas', 'ganjar', 'memiliki', 'talenta', 'pengetahuan', 'mumpuni', 'berpengalaman', 'anggota', 'dpr', 'ri', 'eksekutif', 'hikam', 'keterangan', 'tertulis']\n"
     ]
    }
   ],
   "source": [
    "import nltk\n",
    "from nltk.corpus import stopwords\n",
    "\n",
    "nltk.download('stopwords')\n",
    "\n",
    "stop_words_frozen = frozenset(stopwords.words('indonesian'))\n",
    "dataset['stopwords'] = [\n",
    "    [word for word in tokens if word not in stop_words_frozen]\n",
    "    for tokens in dataset['tokens']\n",
    "]\n",
    "\n",
    "print(dataset['stopwords'].sample(1).values[0])"
   ]
  },
  {
   "cell_type": "code",
   "execution_count": 14,
   "id": "363ee095",
   "metadata": {},
   "outputs": [
    {
     "name": "stdout",
     "output_type": "stream",
     "text": [
      "['sambungnyadarisitu', 'ketua', 'mpr', 'ri', 'lestari', 'moerdijat', 'dikarungin', 'daya', 'saing', 'reformati', 'indonesia', 'postur', 'akselerasi', 'mihardja', 'bangun', 'nasional', 'suprabu', 'manfaat', 'potensi', 'googleform', 'bangun', 'manfaat', 'londongeorge', 'potensi', 'jerumus', 'postur', 'daya', 'saing', 'reformati', 'tingkat', 'sudahh', 'lap', 'lestari', 'inipilpres', 'jumat', 'dasar', 'eastern', 'world', 'reformati', 'competitiveness', 'haji', 'wdcr', 'international', 'institute', 'imageskepolisian', 'management', 'azfa', 'kavre', 'catat', 'daya', 'saing', 'reformati', 'indonesia', 'groep', 'kamilsuswoni', 'dunia', 'kamilsuswoni', 'eastern', 'banding', 'kamilsuswoni', 'kelaparankesimpulan', 'daya', 'saing', 'reformati', 'negara', 'eastern', 'kavre', 'wdcr', 'bantah', 'laluagenda', 'maulwi', 'daya', 'saing', 'reformati', 'indonesia', 'tingkat', 'didik', 'latih', 'riset', 'kembang', 'arradian', 'catat', 'kavre', 'dl', 'daya', 'saing', 'reformati', 'jerumus', 'maulwi', 'potensi', 'akselerasi', 'mihardja', 'bangun', 'sektor', 'realisasi', 'dirinyahari', 'transparankami', 'cicil', 'rerie', 'dikarungin', 'daya', 'saing', 'witana', 'anggota', 'komisi', 'dpr', 'ri', 'dapil', 'ii', 'penultusan', 'suprabu', 'mihardja', 'didik', 'latih', 'riset', 'kembang', 'reformati', 'konsisten', 'patung', 'balikepala', 'mang', 'bersamasecara', 'tingkat', 'pusat', 'reklamasi', 'ujarnyasejumlah', 'mahenda', 'potensi', 'sektor', 'akselerasi', 'tumbuh', 'mampu', 'reformati', 'masyarakat', 'pengampunampunilah', 'air', 'realisasi', 'langkah', 'lestari', 'mang', 'bijak', 'telanjangia', 'ibarahim', 'luas', 'infrastruktur', 'reformati', 'mahenda', 'kualitas', 'segregasionis', 'penugasaan', 'nasional', 'pasal', 'dasar', 'catat', 'kavre', 'cepat', 'penugasaan', 'indonesia', 'urut', 'banter', 'negara', 'teliti']\n"
     ]
    }
   ],
   "source": [
    "from Sastrawi.Stemmer.StemmerFactory import StemmerFactory\n",
    "from functools import lru_cache\n",
    "\n",
    "# Inisialisasi stemmer sekali saja\n",
    "factory = StemmerFactory()\n",
    "stemmer = factory.create_stemmer()\n",
    "\n",
    "# Build dictionary sekali saja\n",
    "def build_stem_dict(df):\n",
    "    all_words = set()\n",
    "    for tokens in df['stopwords']:\n",
    "        if tokens:\n",
    "            all_words.update(tokens)\n",
    "    \n",
    "    factory = StemmerFactory()\n",
    "    stemmer = factory.create_stemmer()\n",
    "    \n",
    "    # Batch process\n",
    "    stem_dict = {}\n",
    "    words_list = list(all_words)\n",
    "    batch_size = 1000\n",
    "    \n",
    "    for i in range(0, len(words_list), batch_size):\n",
    "        batch = words_list[i:i+batch_size]\n",
    "        batch_text = ' '.join(batch)\n",
    "        stemmed_batch = stemmer.stem(batch_text).split()\n",
    "        \n",
    "        for orig, stemmed in zip(batch, stemmed_batch):\n",
    "            stem_dict[orig] = stemmed\n",
    "    \n",
    "    return stem_dict\n",
    "\n",
    "# Build dictionary (hanya sekali untuk 45k dataset)\n",
    "stem_dict = build_stem_dict(dataset)\n",
    "\n",
    "# Apply dengan lookup (super cepat)\n",
    "dataset['stemmed'] = [[stem_dict.get(token, token) for token in tokens] for tokens in dataset['stopwords']]\n",
    "print(dataset['stemmed'].sample(1).values[0])"
   ]
  },
  {
   "cell_type": "code",
   "execution_count": 15,
   "id": "d54f919c",
   "metadata": {},
   "outputs": [
    {
     "data": {
      "text/html": [
       "<div>\n",
       "<style scoped>\n",
       "    .dataframe tbody tr th:only-of-type {\n",
       "        vertical-align: middle;\n",
       "    }\n",
       "\n",
       "    .dataframe tbody tr th {\n",
       "        vertical-align: top;\n",
       "    }\n",
       "\n",
       "    .dataframe thead th {\n",
       "        text-align: right;\n",
       "    }\n",
       "</style>\n",
       "<table border=\"1\" class=\"dataframe\">\n",
       "  <thead>\n",
       "    <tr style=\"text-align: right;\">\n",
       "      <th></th>\n",
       "      <th>content</th>\n",
       "      <th>cleaned_content</th>\n",
       "      <th>tokens</th>\n",
       "      <th>stopwords</th>\n",
       "      <th>stemmed</th>\n",
       "    </tr>\n",
       "  </thead>\n",
       "  <tbody>\n",
       "    <tr>\n",
       "      <th>0</th>\n",
       "      <td>JAKARTA, KOMPAS.com - Presiden Joko Widodo me...</td>\n",
       "      <td>jakarta kompascom presiden joko widodo memakai...</td>\n",
       "      <td>[jakarta, kompascom, presiden, joko, widodo, m...</td>\n",
       "      <td>[jakarta, kompascom, presiden, joko, widodo, m...</td>\n",
       "      <td>[jakarta, ajasaya, brigitta, joko, td, gapasda...</td>\n",
       "    </tr>\n",
       "  </tbody>\n",
       "</table>\n",
       "</div>"
      ],
      "text/plain": [
       "                                             content  \\\n",
       "0   JAKARTA, KOMPAS.com - Presiden Joko Widodo me...   \n",
       "\n",
       "                                     cleaned_content  \\\n",
       "0  jakarta kompascom presiden joko widodo memakai...   \n",
       "\n",
       "                                              tokens  \\\n",
       "0  [jakarta, kompascom, presiden, joko, widodo, m...   \n",
       "\n",
       "                                           stopwords  \\\n",
       "0  [jakarta, kompascom, presiden, joko, widodo, m...   \n",
       "\n",
       "                                             stemmed  \n",
       "0  [jakarta, ajasaya, brigitta, joko, td, gapasda...  "
      ]
     },
     "execution_count": 15,
     "metadata": {},
     "output_type": "execute_result"
    }
   ],
   "source": [
    "dataset.head(1)"
   ]
  },
  {
   "cell_type": "code",
   "execution_count": null,
   "id": "e26d121a",
   "metadata": {},
   "outputs": [],
   "source": [
    "# Simpan dataset yang sudah dibersihkan\n",
    "dataset.to_csv('data/dataset_cleaned.csv', index=False)"
   ]
  }
 ],
 "metadata": {
  "kernelspec": {
   "display_name": "python",
   "language": "python",
   "name": "python3"
  },
  "language_info": {
   "codemirror_mode": {
    "name": "ipython",
    "version": 3
   },
   "file_extension": ".py",
   "mimetype": "text/x-python",
   "name": "python",
   "nbconvert_exporter": "python",
   "pygments_lexer": "ipython3",
   "version": "3.10.12"
  }
 },
 "nbformat": 4,
 "nbformat_minor": 5
}
