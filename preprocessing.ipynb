{
 "cells": [
  {
   "cell_type": "code",
   "execution_count": 1,
   "id": "1e4a4d3a",
   "metadata": {},
   "outputs": [
    {
     "data": {
      "text/html": [
       "<div>\n",
       "<style scoped>\n",
       "    .dataframe tbody tr th:only-of-type {\n",
       "        vertical-align: middle;\n",
       "    }\n",
       "\n",
       "    .dataframe tbody tr th {\n",
       "        vertical-align: top;\n",
       "    }\n",
       "\n",
       "    .dataframe thead th {\n",
       "        text-align: right;\n",
       "    }\n",
       "</style>\n",
       "<table border=\"1\" class=\"dataframe\">\n",
       "  <thead>\n",
       "    <tr style=\"text-align: right;\">\n",
       "      <th></th>\n",
       "      <th>Judul</th>\n",
       "      <th>Waktu</th>\n",
       "      <th>Link</th>\n",
       "      <th>Content</th>\n",
       "      <th>tag1</th>\n",
       "      <th>tag2</th>\n",
       "      <th>tag3</th>\n",
       "      <th>tag4</th>\n",
       "      <th>tag5</th>\n",
       "      <th>source</th>\n",
       "    </tr>\n",
       "  </thead>\n",
       "  <tbody>\n",
       "    <tr>\n",
       "      <th>0</th>\n",
       "      <td>Jokowi Kenakan Pakaian Adat Betawi di Sidang T...</td>\n",
       "      <td>16/08/2024</td>\n",
       "      <td>https://nasional.kompas.com/read/2024/08/16/11...</td>\n",
       "      <td>JAKARTA, KOMPAS.com - Presiden Joko Widodo me...</td>\n",
       "      <td>Presiden Jokowi</td>\n",
       "      <td>Jokowi</td>\n",
       "      <td>sidang tahunan MPR RI 2024</td>\n",
       "      <td>Jokowi adat Betawi sidang mpr 2024</td>\n",
       "      <td>Megawati tak hadiri sidang tahunan MPR 2024</td>\n",
       "      <td>kompas</td>\n",
       "    </tr>\n",
       "    <tr>\n",
       "      <th>1</th>\n",
       "      <td>Amnesty International Beberkan 6 Indikator Kri...</td>\n",
       "      <td>2024-07-18</td>\n",
       "      <td>https://nasional.tempo.co/read/1893144/amnesty...</td>\n",
       "      <td>TEMPO.CO, Jakarta - Amnesty International Indo...</td>\n",
       "      <td>Amnesty International</td>\n",
       "      <td>Amnesty International Indonesia</td>\n",
       "      <td>Kebebasan Berpendapat</td>\n",
       "      <td>Indeks Demokrasi</td>\n",
       "      <td>Revisi UU TNI</td>\n",
       "      <td>tempo</td>\n",
       "    </tr>\n",
       "    <tr>\n",
       "      <th>2</th>\n",
       "      <td>Jelang Long Weekend, Stasiun Kereta Cepat Hali...</td>\n",
       "      <td>Rabu, 08 Mei  2024 19:18 WIB</td>\n",
       "      <td>https://news.detik.com/berita/d-7331666/jelang...</td>\n",
       "      <td>Stasiun kereta cepat Whoosh di Halim, Jakarta ...</td>\n",
       "      <td>kereta cepat whoosh</td>\n",
       "      <td>stasiun halim</td>\n",
       "      <td>long weekend</td>\n",
       "      <td>NaN</td>\n",
       "      <td>NaN</td>\n",
       "      <td>detik</td>\n",
       "    </tr>\n",
       "    <tr>\n",
       "      <th>3</th>\n",
       "      <td>KPU Tegaskan Pemilih Tak Terdaftar di DPT Bisa...</td>\n",
       "      <td>13/02/2024</td>\n",
       "      <td>https://nasional.kompas.com/read/2024/02/13/21...</td>\n",
       "      <td>JAKARTA, KOMPAS.com - Komisi Pemilihan Umum (...</td>\n",
       "      <td>KPU</td>\n",
       "      <td>pemilu 2024</td>\n",
       "      <td>Hasyim Asy'ari</td>\n",
       "      <td>NaN</td>\n",
       "      <td>NaN</td>\n",
       "      <td>kompas</td>\n",
       "    </tr>\n",
       "    <tr>\n",
       "      <th>4</th>\n",
       "      <td>Kemenag Luncurkan Gerakan Senam Haji Jaga Keta...</td>\n",
       "      <td>2024-04-29</td>\n",
       "      <td>https://nasional.tempo.co/read/1861810/kemenag...</td>\n",
       "      <td>TEMPO.CO, Jakarta - Kementerian Agama atau Kem...</td>\n",
       "      <td>Senam Haji</td>\n",
       "      <td>Kemenag</td>\n",
       "      <td>Jemaah Haji</td>\n",
       "      <td>Ibadah Haji</td>\n",
       "      <td>Asrama Haji</td>\n",
       "      <td>tempo</td>\n",
       "    </tr>\n",
       "  </tbody>\n",
       "</table>\n",
       "</div>"
      ],
      "text/plain": [
       "                                               Judul  \\\n",
       "0  Jokowi Kenakan Pakaian Adat Betawi di Sidang T...   \n",
       "1  Amnesty International Beberkan 6 Indikator Kri...   \n",
       "2  Jelang Long Weekend, Stasiun Kereta Cepat Hali...   \n",
       "3  KPU Tegaskan Pemilih Tak Terdaftar di DPT Bisa...   \n",
       "4  Kemenag Luncurkan Gerakan Senam Haji Jaga Keta...   \n",
       "\n",
       "                          Waktu  \\\n",
       "0                    16/08/2024   \n",
       "1                    2024-07-18   \n",
       "2  Rabu, 08 Mei  2024 19:18 WIB   \n",
       "3                    13/02/2024   \n",
       "4                    2024-04-29   \n",
       "\n",
       "                                                Link  \\\n",
       "0  https://nasional.kompas.com/read/2024/08/16/11...   \n",
       "1  https://nasional.tempo.co/read/1893144/amnesty...   \n",
       "2  https://news.detik.com/berita/d-7331666/jelang...   \n",
       "3  https://nasional.kompas.com/read/2024/02/13/21...   \n",
       "4  https://nasional.tempo.co/read/1861810/kemenag...   \n",
       "\n",
       "                                             Content                   tag1  \\\n",
       "0   JAKARTA, KOMPAS.com - Presiden Joko Widodo me...        Presiden Jokowi   \n",
       "1  TEMPO.CO, Jakarta - Amnesty International Indo...  Amnesty International   \n",
       "2  Stasiun kereta cepat Whoosh di Halim, Jakarta ...    kereta cepat whoosh   \n",
       "3   JAKARTA, KOMPAS.com - Komisi Pemilihan Umum (...                    KPU   \n",
       "4  TEMPO.CO, Jakarta - Kementerian Agama atau Kem...             Senam Haji   \n",
       "\n",
       "                               tag2                        tag3  \\\n",
       "0                            Jokowi  sidang tahunan MPR RI 2024   \n",
       "1  Amnesty International Indonesia        Kebebasan Berpendapat   \n",
       "2                     stasiun halim                long weekend   \n",
       "3                       pemilu 2024              Hasyim Asy'ari   \n",
       "4                           Kemenag                 Jemaah Haji   \n",
       "\n",
       "                                 tag4  \\\n",
       "0  Jokowi adat Betawi sidang mpr 2024   \n",
       "1                   Indeks Demokrasi    \n",
       "2                                 NaN   \n",
       "3                                 NaN   \n",
       "4                         Ibadah Haji   \n",
       "\n",
       "                                          tag5  source  \n",
       "0  Megawati tak hadiri sidang tahunan MPR 2024  kompas  \n",
       "1                                Revisi UU TNI   tempo  \n",
       "2                                          NaN   detik  \n",
       "3                                          NaN  kompas  \n",
       "4                                  Asrama Haji   tempo  "
      ]
     },
     "execution_count": 1,
     "metadata": {},
     "output_type": "execute_result"
    }
   ],
   "source": [
    "import pandas as pd\n",
    "\n",
    "# Memuat dataset yang akan digunakan\n",
    "dataset = pd.read_csv('./data/politik_merge.csv')\n",
    "\n",
    "# Overview dari dataset\n",
    "dataset.head()"
   ]
  },
  {
   "cell_type": "code",
   "execution_count": 2,
   "id": "4ab7b1ef",
   "metadata": {},
   "outputs": [
    {
     "data": {
      "text/plain": [
       "(45781, 10)"
      ]
     },
     "execution_count": 2,
     "metadata": {},
     "output_type": "execute_result"
    }
   ],
   "source": [
    "# Jumlah baris dan kolom dalam dataset\n",
    "dataset.shape"
   ]
  },
  {
   "cell_type": "code",
   "execution_count": 3,
   "id": "51cbe59b",
   "metadata": {},
   "outputs": [
    {
     "name": "stdout",
     "output_type": "stream",
     "text": [
      "<class 'pandas.core.frame.DataFrame'>\n",
      "RangeIndex: 45781 entries, 0 to 45780\n",
      "Data columns (total 10 columns):\n",
      " #   Column   Non-Null Count  Dtype \n",
      "---  ------   --------------  ----- \n",
      " 0   Judul    45746 non-null  object\n",
      " 1   Waktu    45781 non-null  object\n",
      " 2   Link     45779 non-null  object\n",
      " 3   Content  45742 non-null  object\n",
      " 4   tag1     45703 non-null  object\n",
      " 5   tag2     45550 non-null  object\n",
      " 6   tag3     41213 non-null  object\n",
      " 7   tag4     31040 non-null  object\n",
      " 8   tag5     19892 non-null  object\n",
      " 9   source   45709 non-null  object\n",
      "dtypes: object(10)\n",
      "memory usage: 3.5+ MB\n"
     ]
    }
   ],
   "source": [
    "# Informasi lebih lanjut tentang dataset\n",
    "dataset.info()"
   ]
  },
  {
   "cell_type": "code",
   "execution_count": 4,
   "id": "f5875bc6",
   "metadata": {},
   "outputs": [
    {
     "data": {
      "text/html": [
       "<div>\n",
       "<style scoped>\n",
       "    .dataframe tbody tr th:only-of-type {\n",
       "        vertical-align: middle;\n",
       "    }\n",
       "\n",
       "    .dataframe tbody tr th {\n",
       "        vertical-align: top;\n",
       "    }\n",
       "\n",
       "    .dataframe thead th {\n",
       "        text-align: right;\n",
       "    }\n",
       "</style>\n",
       "<table border=\"1\" class=\"dataframe\">\n",
       "  <thead>\n",
       "    <tr style=\"text-align: right;\">\n",
       "      <th></th>\n",
       "      <th>judul</th>\n",
       "      <th>waktu</th>\n",
       "      <th>link</th>\n",
       "      <th>content</th>\n",
       "      <th>tag1</th>\n",
       "      <th>tag2</th>\n",
       "      <th>tag3</th>\n",
       "      <th>tag4</th>\n",
       "      <th>tag5</th>\n",
       "      <th>source</th>\n",
       "    </tr>\n",
       "  </thead>\n",
       "  <tbody>\n",
       "    <tr>\n",
       "      <th>0</th>\n",
       "      <td>Jokowi Kenakan Pakaian Adat Betawi di Sidang T...</td>\n",
       "      <td>16/08/2024</td>\n",
       "      <td>https://nasional.kompas.com/read/2024/08/16/11...</td>\n",
       "      <td>JAKARTA, KOMPAS.com - Presiden Joko Widodo me...</td>\n",
       "      <td>Presiden Jokowi</td>\n",
       "      <td>Jokowi</td>\n",
       "      <td>sidang tahunan MPR RI 2024</td>\n",
       "      <td>Jokowi adat Betawi sidang mpr 2024</td>\n",
       "      <td>Megawati tak hadiri sidang tahunan MPR 2024</td>\n",
       "      <td>kompas</td>\n",
       "    </tr>\n",
       "  </tbody>\n",
       "</table>\n",
       "</div>"
      ],
      "text/plain": [
       "                                               judul       waktu  \\\n",
       "0  Jokowi Kenakan Pakaian Adat Betawi di Sidang T...  16/08/2024   \n",
       "\n",
       "                                                link  \\\n",
       "0  https://nasional.kompas.com/read/2024/08/16/11...   \n",
       "\n",
       "                                             content             tag1    tag2  \\\n",
       "0   JAKARTA, KOMPAS.com - Presiden Joko Widodo me...  Presiden Jokowi  Jokowi   \n",
       "\n",
       "                         tag3                                tag4  \\\n",
       "0  sidang tahunan MPR RI 2024  Jokowi adat Betawi sidang mpr 2024   \n",
       "\n",
       "                                          tag5  source  \n",
       "0  Megawati tak hadiri sidang tahunan MPR 2024  kompas  "
      ]
     },
     "execution_count": 4,
     "metadata": {},
     "output_type": "execute_result"
    }
   ],
   "source": [
    "# Mengubah nama kolom untuk konsistensi\n",
    "dataset.columns = dataset.columns.str.lower().str.replace(' ', '_')\n",
    "dataset.head(1)"
   ]
  },
  {
   "cell_type": "code",
   "execution_count": 5,
   "id": "6b5fda80",
   "metadata": {},
   "outputs": [
    {
     "data": {
      "text/html": [
       "<div>\n",
       "<style scoped>\n",
       "    .dataframe tbody tr th:only-of-type {\n",
       "        vertical-align: middle;\n",
       "    }\n",
       "\n",
       "    .dataframe tbody tr th {\n",
       "        vertical-align: top;\n",
       "    }\n",
       "\n",
       "    .dataframe thead th {\n",
       "        text-align: right;\n",
       "    }\n",
       "</style>\n",
       "<table border=\"1\" class=\"dataframe\">\n",
       "  <thead>\n",
       "    <tr style=\"text-align: right;\">\n",
       "      <th></th>\n",
       "      <th>content</th>\n",
       "    </tr>\n",
       "  </thead>\n",
       "  <tbody>\n",
       "    <tr>\n",
       "      <th>0</th>\n",
       "      <td>JAKARTA, KOMPAS.com - Presiden Joko Widodo me...</td>\n",
       "    </tr>\n",
       "  </tbody>\n",
       "</table>\n",
       "</div>"
      ],
      "text/plain": [
       "                                             content\n",
       "0   JAKARTA, KOMPAS.com - Presiden Joko Widodo me..."
      ]
     },
     "execution_count": 5,
     "metadata": {},
     "output_type": "execute_result"
    }
   ],
   "source": [
    "# Menghapus kolom yang tidak diperlukan\n",
    "dataset = dataset.drop(columns=['judul', 'waktu', 'link', 'tag1', 'tag2', 'tag3', 'tag4', 'tag5', 'source'])\n",
    "dataset.head(1)"
   ]
  },
  {
   "cell_type": "code",
   "execution_count": 6,
   "id": "136eeff3",
   "metadata": {},
   "outputs": [
    {
     "data": {
      "text/plain": [
       "content    39\n",
       "dtype: int64"
      ]
     },
     "execution_count": 6,
     "metadata": {},
     "output_type": "execute_result"
    }
   ],
   "source": [
    "# Menghitung jumlah nilai yang hilang (missing values) dalam dataset\n",
    "dataset.isna().sum()"
   ]
  },
  {
   "cell_type": "code",
   "execution_count": 7,
   "id": "70f2fa38",
   "metadata": {},
   "outputs": [
    {
     "name": "stdout",
     "output_type": "stream",
     "text": [
      "Rasio nilai yang hilang: content    0.000852\n",
      "dtype: float64\n"
     ]
    }
   ],
   "source": [
    "# Rasio dari nilai yang hilang terhadap total data\n",
    "missing_ratio = dataset.isna().sum() / len(dataset)\n",
    "print(f\"Rasio nilai yang hilang: {missing_ratio}\")"
   ]
  },
  {
   "cell_type": "code",
   "execution_count": 8,
   "id": "4d2686dd",
   "metadata": {},
   "outputs": [
    {
     "data": {
      "text/plain": [
       "content    0\n",
       "dtype: int64"
      ]
     },
     "execution_count": 8,
     "metadata": {},
     "output_type": "execute_result"
    }
   ],
   "source": [
    "# Menhapus baris yang memiliki nilai yang hilang\n",
    "dataset = dataset.dropna()\n",
    "dataset.isna().sum()"
   ]
  },
  {
   "cell_type": "code",
   "execution_count": 9,
   "id": "9b6b123b",
   "metadata": {},
   "outputs": [
    {
     "name": "stdout",
     "output_type": "stream",
     "text": [
      "JAKARTA KOMPAS com Sekretaris Jenderal Partai Gerindra Ahmad Muzani melempar pantun ketika ditanya soal Koalisi Indonesia Maju KIM Plus yang disebut-sebut sudah memutuskan mengusung mantan Gubernur Jawa Barat Ridwan Kamil pada Pilkada Jakarta Lewat pantun tersebut Muzani menyebutkan bahwa Jakarta akan semakin hebat jika dipimpin oleh seorang arsitek Untuk diketahui Ridwan Kamila dalah seorang arsitek sebelum berkecimpung di dunia politik Jakarta jawabannya pakai pantun kata Muzani di Kompleks Parlemen Senayan Jakarta Senin Ke Pangkalan Jati beli babat Makan bubur sama lotek Provinsi DKI akan semakin hebat Kalau gubernurnya seorang arsitek ujar dia Kendati demikian Muzani masih merahasiakan sosok yang bakal menjadi calon wakil gubernur mendampingi Ridwan Kamil di Jakarta Enggak tunggu pantun berikutnya ujar dia Wakil ketua MPR itu juga belum mau mengungkap partai politik mana saja yang akan bergabung ke KIM Plus dan mengusung Ridwan Kamil Pokoknya untuk wakil gubernur dan KIM Plus atau KIM Min gitu tunggu pantun berikutnya Sudah cukup kata Muzani Diberitakan sebelumnya Ketua Harian Partai Gerindra Sufmi Dasco Ahmad menyatakan bahwa KIM Plus sudah memutuskan untuk mengusung Ridwan Kamil pada Pilkada Jakarta Ya Insya Allah di KIM Plus sudah muncul satu nama yaitu Ridwan Kamil untuk Pilkada DKI Jakarta kata Dasco Senin Partai Golkar pun telah memberikan sinyal bahwa kadernya itu bakal berlaga pada Pilkada Jakarta Padahal sebelumnya Golkar bersikukuh untuk mengusung Ridwan Kamil pada Pilkada Jawa Barat meski sejumlah partai politik KIM mendorong Ridwan Kamil maju pada Pilkada Jakarta Ridwan Kamil On the way to DKI ujar Ketua Umum Partai Golkar Airlangga Hartarto di Kompleks Istana Kepresidenan Jakarta Senin\n"
     ]
    }
   ],
   "source": [
    "import re\n",
    "\n",
    "# Preprocessing teks untuk membersihkan konten\n",
    "def clean_text(text):\n",
    "    \"\"\"Preprocessing teks yang akurat dan efisien\"\"\"\n",
    "    if not isinstance(text, str):\n",
    "        return \"\"\n",
    "    \n",
    "    # Hapus URL\n",
    "    text = re.sub(r'https?://\\S+|www\\.\\S+', '', text)\n",
    "    \n",
    "    # Hapus mention\n",
    "    text = re.sub(r'@\\w+', '', text)\n",
    "    \n",
    "    # Ubah hashtag jadi kata biasa\n",
    "    text = re.sub(r'#(\\w+)', r'\\1', text)\n",
    "    \n",
    "    # Hapus karakter khusus kecuali apostrof dan tanda hubung\n",
    "    text = re.sub(r'[^\\w\\s\\'\\-]', ' ', text)\n",
    "    \n",
    "    # Normalisasi apostrof\n",
    "    text = re.sub(r'[''`]', \"'\", text)\n",
    "    \n",
    "    # Hapus angka standalone\n",
    "    text = re.sub(r'\\b\\d+\\b', '', text)\n",
    "    \n",
    "    # Hapus spasi berlebih\n",
    "    text = re.sub(r'\\s+', ' ', text).strip()\n",
    "    \n",
    "    # Hapus kata pendek kecuali yang penting\n",
    "    words = text.split()\n",
    "    important_short = {'di', 'ke', 'ku', 'mu', 'ya', 'si', 'se', 'dan', 'ini', 'itu', 'dia', 'ada', 'tak', 'pun', 'nya', 'aku', 'bab', 'hal', 'per', 'pro', 'sub', 'non', 'bio', 'dll', 'dsb', 'pdt', 'dr', 'ir', 'st', 'mt', 'sh', 'mm', 'sm', 'sk', 'sd', 'tk', 'rs', 'rt', 'rw', 'no'}\n",
    "    filtered_words = [word for word in words if len(word) >= 2 or word in important_short]\n",
    "    \n",
    "    return ' '.join(filtered_words)\n",
    "\n",
    "# Terapkan ke dataset\n",
    "dataset['cleaned_content'] = dataset['content'].apply(clean_text)\n",
    "print(dataset['cleaned_content'].sample(1).values[0])"
   ]
  },
  {
   "cell_type": "code",
   "execution_count": 10,
   "id": "51b1813b",
   "metadata": {},
   "outputs": [
    {
     "name": "stdout",
     "output_type": "stream",
     "text": [
      "tempo co jakarta sekretaris jenderal dpp pdi perjuangan pdip hasto kristiyanto mengatakan kecurangan pemilu sangat jelas dan terjadi dari hulu hingga hilir maka hasto menyatakan bahwa pdip mendukung direktorat hukum tim pemenangan nasional tpn ganjar-mahfud untuk mengajukan gugatan ke mahkamah konstitusi mk terhadap hasil yang diumumkan kpu tadi malam sikap dari partai politik pengusung pak ganjar-mahfud menegaskan bahwa proses pemilu belum selesai karena ganjar- mahfud akan menggunakan hak konstitusionalnya untuk melakukan gugatan melalui mahkamah konstitusi dan dalil yang kami sampaikan sangat jelas kata hasto dalam konferensi pers bersama sekjen partai politik pendukung ganjar-mahfud di media center jalan cemara menteng jakarta pusat kamis maret letjen tni purn am putranto ketua pemenangan ahmad luthfi rival eks panglima tni andika perkasa di pilgub jateng hal tersebut dilakukan atas berbagai pertimbangan termasuk soal pentingnya menjaga konstitusi menjaga nilai-nilai demokrasi dan menjaga harapan tentang hadirnya pemilu yang demokratis hasto mengatakan sebelum pemilu pada februari sudah terlihat jelas adanya tekanan terhadap pendukung paslon nomor urut ganjar pranowo dan mahfud md setelah pencoblosan kata hasto desain kecurangan mulai dilakukan lewat sirekap kpu kpu awalnya menyatakan bahwa sirekap hanya alat bantu tetapi di dalam praktiknya dan sesuai dengan peraturan kpu sirekap bukan sekadar alat bantu di dalam praktik ketika terjadi persoalan selisih antara c1 yang disampaikan oleh saksi-saksi dengan hasil perhitungan itu rujukannya adalah sirekap jadi ini lebih dari sekadar alat bantu apalagi juga menggunakan dana apbn yang harus dipertanggungjawabkan kata hasto ahmad luthfi menjelang pilkada jateng tim pemenangan dan persaingan sengit hasto juga menyampaikan temuan pakar it bahwa sejak februari ketika perhitungan itu mulai dilakukan yaitu sekitar pukul wib sudah terjadi perubahan sebanyak kali di lebih dari tps dia mengajak semua pihak melihat selisih antara suara sah dan yang seharusnya sama dengan suara sah itu ternyata mencapai juta suara dan ini terjadi penggelembungan suara kata hasto sekretaris jenderal tpn ganjar-mahfud itu mengatakan pihaknya menggunakan data dari kpu lalu c1 plano yang dikirimkan para saksi meskipun ada upaya-upaya secara sistematis agar c1 plano yang autentik itu tidak diterima oleh saksi dan namun hasto menyampaikan ada pergerakan masyarakat sipil yang akhirnya memberikan kontribusi terhadap c1 plano tersebut dari hasil ini maka kalau kita cermati semakin menyempurnakan suatu rangkaian proses kecurangan dari hulu ke hilir kata hasto selain hasto dalam konferensi pers ini turut hadir anggota koalisi lainnya yaitu anggota mahkamah partai ppp mewakili sekjen ppp abdullah mansyur sekjen hanura benny rhamdani dan sekjen perindo ahmad rofiq\n"
     ]
    }
   ],
   "source": [
    "# Case folding untuk normalisasi huruf kecil\n",
    "dataset['cleaned_content'] = dataset['cleaned_content'].str.lower()\n",
    "print(dataset['cleaned_content'].sample(1).values[0])"
   ]
  },
  {
   "cell_type": "code",
   "execution_count": 11,
   "id": "97162534",
   "metadata": {},
   "outputs": [
    {
     "name": "stdout",
     "output_type": "stream",
     "text": [
      "['komisi', 'pemilihan', 'umum', 'kpu', 'telah', 'menetapkan', 'peraturan', 'dan', 'ketentuan', 'terkait', 'pelaksanaan', 'rekapitulasi', 'hasil', 'penghitungan', 'perolehan', 'suara', 'dan', 'penetapan', 'hasil', 'pemilu', 'hal', 'tersebut', 'memuat', 'tentang', 'tahapan', 'dan', 'jadwal', 'pelaksanaannya', 'sebagaimana', 'tertuang', 'dalam', 'peraturan', 'kpu', 'nomor', 'tahun', 'tentang', 'rekapitulasi', 'hasil', 'penghitungan', 'perolehan', 'suara', 'dan', 'penetapan', 'hasil', 'pemilihan', 'umum', 'dengan', 'petunjuk', 'pelaksanaannya', 'diatur', 'melalui', 'keputusan', 'kpu', 'nomor', 'tahun', 'untuk', 'mengetahui', 'lebih', 'lanjut', 'simak', 'informasi', 'tahapan', 'dan', 'jadwal', 'pelaksanaan', 'kegiatan', 'rekapitulasi', 'penghitungan', 'perolehan', 'suara', 'dan', 'penetapan', 'hasil', 'pemilu', 'sebagaimana', 'diatur', 'dalam', 'peraturan', 'kpu', 'dan', 'keputusan', 'kpu', 'berikut', 'dalam', 'pasal', 'peraturan', 'kpu', 'nomor', 'tahun', 'dijelaskan', 'bahwa', 'tahapan', 'rekapitulasi', 'hasil', 'penghitungan', 'perolehan', 'suara', 'dan', 'penetapan', 'hasil', 'pemilu', 'meliputi', 'terkait', 'jadwal', 'kegiatan', 'tahapan', 'rekapitulasi', 'hasil', 'penghitungan', 'perolehan', 'suara', 'dan', 'penetapan', 'hasil', 'pemilu', 'termuat', 'dalam', 'lampiran', 'peraturan', 'kpu', 'nomor', 'tahun', 'yang', 'berlaku', 'sebagai', 'berikut', 'simak', 'video', \"'real\", 'count', 'kpu', 'prabowo-gibran', 'masih', 'memimpin', \"'\", 'gambas', 'video', '20detik']\n"
     ]
    }
   ],
   "source": [
    "from nltk.tokenize import word_tokenize\n",
    "\n",
    "# Proses tokenisasi \n",
    "dataset['tokens'] = [word_tokenize(text) for text in dataset['cleaned_content']]\n",
    "print(dataset['tokens'].sample(1).values[0])"
   ]
  },
  {
   "cell_type": "code",
   "execution_count": 12,
   "id": "9991706b",
   "metadata": {},
   "outputs": [
    {
     "name": "stdout",
     "output_type": "stream",
     "text": [
      "['tempo', 'co', 'jakarta', 'wakil', 'ketua', 'partai', 'golkar', 'dito', 'ariotedjo', 'buka', 'suara', 'calon', 'pengganti', 'airlangga', 'hartarto', 'mengundurkan', 'sari', 'kursi', 'ketua', 'partai', 'golkar', 'dito', 'mengakui', 'aspirasi', 'internal', 'partai', 'beringin', 'bahlil', 'lahadalia', 'ketua', 'golkar', 'ya', 'mendengar', 'aspirasi', 'mengerucut', 'namanya', 'bang', 'bahlil', 'dito', 'ditemui', 'kantor', 'dewan', 'pimpinan', 'pusat', 'partai', 'golkar', 'slipi', 'jakarta', 'barat', 'selasa', 'agustus', 'dito', 'bahlil', 'terpilih', 'ketua', 'menteri', 'investasi', 'kepala', 'badan', 'koordinasi', 'penanaman', 'modal', 'bkpm', 'memilik', 'kedekatan', 'airlangga', 'menteri', 'pemuda', 'olahraga', 'menilai', 'kedekatan', 'memudahkan', 'bahlil', 'terpilih', 'ketua', 'golkar', 'ya', 'pastinya', 'senior', 'airlangga', 'junior', 'bahli', 'airlangga', 'pastinya', 'membimbing', 'mengkader', 'bang', 'bahlil', 'bang', 'bahlil', 'golkar', 'dito', 'dito', 'penentuan', 'ketua', 'musyawarah', 'nasional', 'munas', 'ke-', 'partai', 'golkar', 'munas', 'membahas', 'tokoh', 'mencalonkan', 'ketua', 'memilih', 'ketua', 'jalur', 'aklamasi', 'ditentukan', 'munas', 'berharap', 'munas', 'agustus', 'menghasilkan', 'sosok', 'ketua', 'layak', 'memimpin', 'golkar', 'idrus', 'marham', 'dpd', 'golkar', 'dukung', 'bahlil', 'ketua', 'dewan', 'pembina', 'badan', 'pemenangan', 'pemilihan', 'bappilu', 'partai', 'golkar', 'idrus', 'marham', 'mengklaim', 'dukungan', 'bahlil', 'dewan', 'pimpinan', 'daerah', 'dpd', 'golkar', 'wilayah', 'indonesia', 'dukungan', 'penuh', 'mencapai', 'provinsi', 'tinggal', 'menunggu', 'provinsi', 'menyusul', 'teknis', 'idrus', 'idrus', 'ditemui', 'im', 'center', 'jakarta', 'pusat', 'selasa', 'agustus', 'mantan', 'menteri', 'sosial', 'menyebut', 'dukungan', 'sederet', 'dpd', 'golkar', 'bahlil', 'dimuat', 'resmi', 'bentuk', 'surat', 'dukungannya', 'mencalonkan', 'bahlil', 'ketua', 'mengganti', 'airlangga']\n"
     ]
    }
   ],
   "source": [
    "from nltk.corpus import stopwords\n",
    "\n",
    "# Proses stopword removal\n",
    "stop_words_frozen = frozenset(stopwords.words('indonesian'))\n",
    "dataset['stopwords'] = [\n",
    "    [word for word in tokens if word not in stop_words_frozen]\n",
    "    for tokens in dataset['tokens']\n",
    "]\n",
    "\n",
    "print(dataset['stopwords'].sample(1).values[0])"
   ]
  },
  {
   "cell_type": "code",
   "execution_count": 13,
   "id": "363ee095",
   "metadata": {},
   "outputs": [
    {
     "name": "stdout",
     "output_type": "stream",
     "text": [
      "Collecting unique words...\n",
      "Total unique words: 122,896\n",
      "Processed 5,000/122,896\n",
      "Processed 10,000/122,896\n",
      "Processed 15,000/122,896\n",
      "Processed 20,000/122,896\n",
      "Processed 25,000/122,896\n",
      "Processed 30,000/122,896\n",
      "Processed 35,000/122,896\n",
      "Processed 40,000/122,896\n",
      "Processed 45,000/122,896\n",
      "Processed 50,000/122,896\n",
      "Processed 55,000/122,896\n",
      "Processed 60,000/122,896\n",
      "Processed 65,000/122,896\n",
      "Processed 70,000/122,896\n",
      "Processed 75,000/122,896\n",
      "Processed 80,000/122,896\n",
      "Processed 85,000/122,896\n",
      "Processed 90,000/122,896\n",
      "Processed 95,000/122,896\n",
      "Processed 100,000/122,896\n",
      "Processed 105,000/122,896\n",
      "Processed 110,000/122,896\n",
      "Processed 115,000/122,896\n",
      "Processed 120,000/122,896\n",
      "Completed! Errors: 20\n",
      "Sample result:\n",
      "['pria', 'nama', 'faisal', 'andriansyah', 'tangkap', 'culik', 'siswi', 'smpn', 'jakarta', 'jemput', 'sekolah', 'laku', 'dalih', 'orang', 'tua', 'korban', 'celaka', 'laku', 'rampok', 'korban', 'kabid', 'humas', 'polda', 'metro', 'jaya', 'kombes', 'ade', 'ary', 'syam', 'indradi', 'peristiwa', 'kamis', 'laku', 'jemput', 'korban', 'sekolah', 'kawasan', 'palmerah', 'jakarta', 'barat', 'jakbar', 'jpo', 'seberang', 'gedung', 'mpr', 'dpr', 'ri', 'korban', 'langsung', 'rampok', 'sampa', 'jpo', 'seberang', 'mpr', 'dpr', 'laku', 'paksa', 'barang', 'milik', 'korban', 'kabid', 'humas', 'polda', 'metro', 'jaya', 'kombes', 'ade', 'ary', 'syam', 'indradi', 'wartawan', 'jumat', 'laku', 'keras', 'korban', 'laku', 'lantas', 'ambil', 'handphone', 'hp', 'emas', 'putih', 'milik', 'korban', 'tindak', 'pidana', 'curi', 'keras', 'barang', 'hp', 'anting', 'emas', 'putih', 'berat', 'gram', 'cincin', 'emas', 'berat', 'gram', 'milik', 'korban', 'jadi', 'lapor', 'alami', 'rugi', 'taksir', 'rp', 'juta', 'subdit', 'jatanras', 'ditreskrimum', 'polda', 'metro', 'jaya', 'gerak', 'cepat', 'menindaklanjuti', 'adu', 'tangkap', 'laku', 'kosannya', 'kawasan', 'bendung', 'hilir', 'jakarta', 'pusat', 'kamis', 'laku', 'periksa', 'polda', 'metro', 'jaya', 'kasubdit', 'jatanras', 'ditreskrimum', 'polda', 'metro', 'jaya', 'akbp', 'rovan', 'richard', 'mahenu', 'laku', 'jemput', 'korban', 'sekolah', 'dalih', 'orang', 'tua', 'celaka', 'rovan', 'modus', 'laku', 'modus', 'waspada', 'modus', 'siswi', 'smp', 'culik', 'sekolah', 'modus', 'laku', 'ibu', 'alami', 'celaka', 'rovan', 'terang', 'jumat', 'rovan', 'sebut', 'korban', 'daya', 'akal', 'busuk', 'laku', 'jalan', 'laku', 'lantas', 'ambil', 'barang', 'harga', 'milik', 'korban', 'lari', 'korban', 'percaya', 'korban', 'motor', 'laku', 'jalan', 'korban', 'begal', 'ambil', 'benda', 'harga', 'lihat', 'video', 'culiklecehkan', 'bocah', 'pria', 'new', 'york', 'hukum', 'bui', 'umur', 'hidup', \"'\", 'gambas', 'video', 'detik', 'saksi', 'live', 'detiksore']\n"
     ]
    }
   ],
   "source": [
    "from Sastrawi.Stemmer.StemmerFactory import StemmerFactory\n",
    "import re\n",
    "\n",
    "# Inisialisasi stemmer sekali saja\n",
    "factory = StemmerFactory()\n",
    "stemmer = factory.create_stemmer()\n",
    "\n",
    "def clean_token(token):\n",
    "    \"\"\"Bersihkan token sebelum stemming\"\"\"\n",
    "    if not token or not isinstance(token, str):\n",
    "        return token\n",
    "    \n",
    "    cleaned = re.sub(r'[^a-zA-Z]', '', token.lower())\n",
    "    return cleaned if cleaned else token\n",
    "\n",
    "def build_accurate_stem_dict(df):\n",
    "    \"\"\"Build stemming dictionary dengan akurasi maksimal\"\"\"\n",
    "    print(\"Collecting unique words...\")\n",
    "    all_words = set()\n",
    "    \n",
    "    # Kumpulkan semua kata unik\n",
    "    for tokens in df['stopwords']:\n",
    "        if tokens and isinstance(tokens, list):\n",
    "            for token in tokens:\n",
    "                if token and isinstance(token, str) and len(token.strip()) > 0:\n",
    "                    all_words.add(token.strip())\n",
    "    \n",
    "    print(f\"Total unique words: {len(all_words):,}\")\n",
    "    \n",
    "    # Stem setiap kata individual\n",
    "    stem_dict = {}\n",
    "    processed = 0\n",
    "    errors = 0\n",
    "    \n",
    "    for word in all_words:\n",
    "        try:\n",
    "            cleaned_word = clean_token(word)\n",
    "            \n",
    "            if cleaned_word and len(cleaned_word) > 1:\n",
    "                stemmed = stemmer.stem(cleaned_word)\n",
    "                \n",
    "                if stemmed and len(stemmed) <= len(cleaned_word) + 2:\n",
    "                    stem_dict[word] = stemmed\n",
    "                else:\n",
    "                    stem_dict[word] = cleaned_word\n",
    "                    errors += 1\n",
    "            else:\n",
    "                stem_dict[word] = word\n",
    "                \n",
    "        except Exception:\n",
    "            stem_dict[word] = word\n",
    "            errors += 1\n",
    "        \n",
    "        processed += 1\n",
    "        if processed % 5000 == 0:\n",
    "            print(f\"Processed {processed:,}/{len(all_words):,}\")\n",
    "    \n",
    "    print(f\"Completed! Errors: {errors}\")\n",
    "    return stem_dict\n",
    "\n",
    "# Build dictionary dengan akurasi maksimal\n",
    "stem_dict = build_accurate_stem_dict(dataset)\n",
    "\n",
    "# Apply stemming\n",
    "dataset['stemmed'] = [[stem_dict.get(token, token) for token in tokens] for tokens in dataset['stopwords']]\n",
    "\n",
    "# Lihat hasil\n",
    "print(\"Sample result:\")\n",
    "print(dataset['stemmed'].sample(1).values[0])"
   ]
  },
  {
   "cell_type": "code",
   "execution_count": 14,
   "id": "d54f919c",
   "metadata": {},
   "outputs": [
    {
     "data": {
      "text/html": [
       "<div>\n",
       "<style scoped>\n",
       "    .dataframe tbody tr th:only-of-type {\n",
       "        vertical-align: middle;\n",
       "    }\n",
       "\n",
       "    .dataframe tbody tr th {\n",
       "        vertical-align: top;\n",
       "    }\n",
       "\n",
       "    .dataframe thead th {\n",
       "        text-align: right;\n",
       "    }\n",
       "</style>\n",
       "<table border=\"1\" class=\"dataframe\">\n",
       "  <thead>\n",
       "    <tr style=\"text-align: right;\">\n",
       "      <th></th>\n",
       "      <th>content</th>\n",
       "      <th>cleaned_content</th>\n",
       "      <th>tokens</th>\n",
       "      <th>stopwords</th>\n",
       "      <th>stemmed</th>\n",
       "    </tr>\n",
       "  </thead>\n",
       "  <tbody>\n",
       "    <tr>\n",
       "      <th>0</th>\n",
       "      <td>JAKARTA, KOMPAS.com - Presiden Joko Widodo me...</td>\n",
       "      <td>jakarta kompas com presiden joko widodo memaka...</td>\n",
       "      <td>[jakarta, kompas, com, presiden, joko, widodo,...</td>\n",
       "      <td>[jakarta, kompas, com, presiden, joko, widodo,...</td>\n",
       "      <td>[jakarta, kompas, com, presiden, joko, widodo,...</td>\n",
       "    </tr>\n",
       "  </tbody>\n",
       "</table>\n",
       "</div>"
      ],
      "text/plain": [
       "                                             content  \\\n",
       "0   JAKARTA, KOMPAS.com - Presiden Joko Widodo me...   \n",
       "\n",
       "                                     cleaned_content  \\\n",
       "0  jakarta kompas com presiden joko widodo memaka...   \n",
       "\n",
       "                                              tokens  \\\n",
       "0  [jakarta, kompas, com, presiden, joko, widodo,...   \n",
       "\n",
       "                                           stopwords  \\\n",
       "0  [jakarta, kompas, com, presiden, joko, widodo,...   \n",
       "\n",
       "                                             stemmed  \n",
       "0  [jakarta, kompas, com, presiden, joko, widodo,...  "
      ]
     },
     "execution_count": 14,
     "metadata": {},
     "output_type": "execute_result"
    }
   ],
   "source": [
    "# Menampilkan hasil akhir\n",
    "dataset.head(1)"
   ]
  },
  {
   "cell_type": "code",
   "execution_count": null,
   "id": "e26d121a",
   "metadata": {},
   "outputs": [],
   "source": [
    "# Simpan dataset yang sudah dibersihkan\n",
    "dataset.to_csv('data/preprocessed_dataset.csv', index=False)"
   ]
  }
 ],
 "metadata": {
  "kernelspec": {
   "display_name": "python",
   "language": "python",
   "name": "python3"
  },
  "language_info": {
   "codemirror_mode": {
    "name": "ipython",
    "version": 3
   },
   "file_extension": ".py",
   "mimetype": "text/x-python",
   "name": "python",
   "nbconvert_exporter": "python",
   "pygments_lexer": "ipython3",
   "version": "3.10.12"
  }
 },
 "nbformat": 4,
 "nbformat_minor": 5
}
