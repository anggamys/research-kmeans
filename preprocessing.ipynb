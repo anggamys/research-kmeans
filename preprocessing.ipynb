{
 "cells": [
  {
   "cell_type": "code",
   "execution_count": 1,
   "id": "1e4a4d3a",
   "metadata": {},
   "outputs": [
    {
     "data": {
      "text/html": [
       "<div>\n",
       "<style scoped>\n",
       "    .dataframe tbody tr th:only-of-type {\n",
       "        vertical-align: middle;\n",
       "    }\n",
       "\n",
       "    .dataframe tbody tr th {\n",
       "        vertical-align: top;\n",
       "    }\n",
       "\n",
       "    .dataframe thead th {\n",
       "        text-align: right;\n",
       "    }\n",
       "</style>\n",
       "<table border=\"1\" class=\"dataframe\">\n",
       "  <thead>\n",
       "    <tr style=\"text-align: right;\">\n",
       "      <th></th>\n",
       "      <th>Judul</th>\n",
       "      <th>Waktu</th>\n",
       "      <th>Link</th>\n",
       "      <th>Content</th>\n",
       "      <th>tag1</th>\n",
       "      <th>tag2</th>\n",
       "      <th>tag3</th>\n",
       "      <th>tag4</th>\n",
       "      <th>tag5</th>\n",
       "      <th>source</th>\n",
       "    </tr>\n",
       "  </thead>\n",
       "  <tbody>\n",
       "    <tr>\n",
       "      <th>0</th>\n",
       "      <td>Jokowi Kenakan Pakaian Adat Betawi di Sidang T...</td>\n",
       "      <td>16/08/2024</td>\n",
       "      <td>https://nasional.kompas.com/read/2024/08/16/11...</td>\n",
       "      <td>JAKARTA, KOMPAS.com - Presiden Joko Widodo me...</td>\n",
       "      <td>Presiden Jokowi</td>\n",
       "      <td>Jokowi</td>\n",
       "      <td>sidang tahunan MPR RI 2024</td>\n",
       "      <td>Jokowi adat Betawi sidang mpr 2024</td>\n",
       "      <td>Megawati tak hadiri sidang tahunan MPR 2024</td>\n",
       "      <td>kompas</td>\n",
       "    </tr>\n",
       "    <tr>\n",
       "      <th>1</th>\n",
       "      <td>Amnesty International Beberkan 6 Indikator Kri...</td>\n",
       "      <td>2024-07-18</td>\n",
       "      <td>https://nasional.tempo.co/read/1893144/amnesty...</td>\n",
       "      <td>TEMPO.CO, Jakarta - Amnesty International Indo...</td>\n",
       "      <td>Amnesty International</td>\n",
       "      <td>Amnesty International Indonesia</td>\n",
       "      <td>Kebebasan Berpendapat</td>\n",
       "      <td>Indeks Demokrasi</td>\n",
       "      <td>Revisi UU TNI</td>\n",
       "      <td>tempo</td>\n",
       "    </tr>\n",
       "    <tr>\n",
       "      <th>2</th>\n",
       "      <td>Jelang Long Weekend, Stasiun Kereta Cepat Hali...</td>\n",
       "      <td>Rabu, 08 Mei  2024 19:18 WIB</td>\n",
       "      <td>https://news.detik.com/berita/d-7331666/jelang...</td>\n",
       "      <td>Stasiun kereta cepat Whoosh di Halim, Jakarta ...</td>\n",
       "      <td>kereta cepat whoosh</td>\n",
       "      <td>stasiun halim</td>\n",
       "      <td>long weekend</td>\n",
       "      <td>NaN</td>\n",
       "      <td>NaN</td>\n",
       "      <td>detik</td>\n",
       "    </tr>\n",
       "    <tr>\n",
       "      <th>3</th>\n",
       "      <td>KPU Tegaskan Pemilih Tak Terdaftar di DPT Bisa...</td>\n",
       "      <td>13/02/2024</td>\n",
       "      <td>https://nasional.kompas.com/read/2024/02/13/21...</td>\n",
       "      <td>JAKARTA, KOMPAS.com - Komisi Pemilihan Umum (...</td>\n",
       "      <td>KPU</td>\n",
       "      <td>pemilu 2024</td>\n",
       "      <td>Hasyim Asy'ari</td>\n",
       "      <td>NaN</td>\n",
       "      <td>NaN</td>\n",
       "      <td>kompas</td>\n",
       "    </tr>\n",
       "    <tr>\n",
       "      <th>4</th>\n",
       "      <td>Kemenag Luncurkan Gerakan Senam Haji Jaga Keta...</td>\n",
       "      <td>2024-04-29</td>\n",
       "      <td>https://nasional.tempo.co/read/1861810/kemenag...</td>\n",
       "      <td>TEMPO.CO, Jakarta - Kementerian Agama atau Kem...</td>\n",
       "      <td>Senam Haji</td>\n",
       "      <td>Kemenag</td>\n",
       "      <td>Jemaah Haji</td>\n",
       "      <td>Ibadah Haji</td>\n",
       "      <td>Asrama Haji</td>\n",
       "      <td>tempo</td>\n",
       "    </tr>\n",
       "  </tbody>\n",
       "</table>\n",
       "</div>"
      ],
      "text/plain": [
       "                                               Judul  \\\n",
       "0  Jokowi Kenakan Pakaian Adat Betawi di Sidang T...   \n",
       "1  Amnesty International Beberkan 6 Indikator Kri...   \n",
       "2  Jelang Long Weekend, Stasiun Kereta Cepat Hali...   \n",
       "3  KPU Tegaskan Pemilih Tak Terdaftar di DPT Bisa...   \n",
       "4  Kemenag Luncurkan Gerakan Senam Haji Jaga Keta...   \n",
       "\n",
       "                          Waktu  \\\n",
       "0                    16/08/2024   \n",
       "1                    2024-07-18   \n",
       "2  Rabu, 08 Mei  2024 19:18 WIB   \n",
       "3                    13/02/2024   \n",
       "4                    2024-04-29   \n",
       "\n",
       "                                                Link  \\\n",
       "0  https://nasional.kompas.com/read/2024/08/16/11...   \n",
       "1  https://nasional.tempo.co/read/1893144/amnesty...   \n",
       "2  https://news.detik.com/berita/d-7331666/jelang...   \n",
       "3  https://nasional.kompas.com/read/2024/02/13/21...   \n",
       "4  https://nasional.tempo.co/read/1861810/kemenag...   \n",
       "\n",
       "                                             Content                   tag1  \\\n",
       "0   JAKARTA, KOMPAS.com - Presiden Joko Widodo me...        Presiden Jokowi   \n",
       "1  TEMPO.CO, Jakarta - Amnesty International Indo...  Amnesty International   \n",
       "2  Stasiun kereta cepat Whoosh di Halim, Jakarta ...    kereta cepat whoosh   \n",
       "3   JAKARTA, KOMPAS.com - Komisi Pemilihan Umum (...                    KPU   \n",
       "4  TEMPO.CO, Jakarta - Kementerian Agama atau Kem...             Senam Haji   \n",
       "\n",
       "                               tag2                        tag3  \\\n",
       "0                            Jokowi  sidang tahunan MPR RI 2024   \n",
       "1  Amnesty International Indonesia        Kebebasan Berpendapat   \n",
       "2                     stasiun halim                long weekend   \n",
       "3                       pemilu 2024              Hasyim Asy'ari   \n",
       "4                           Kemenag                 Jemaah Haji   \n",
       "\n",
       "                                 tag4  \\\n",
       "0  Jokowi adat Betawi sidang mpr 2024   \n",
       "1                   Indeks Demokrasi    \n",
       "2                                 NaN   \n",
       "3                                 NaN   \n",
       "4                         Ibadah Haji   \n",
       "\n",
       "                                          tag5  source  \n",
       "0  Megawati tak hadiri sidang tahunan MPR 2024  kompas  \n",
       "1                                Revisi UU TNI   tempo  \n",
       "2                                          NaN   detik  \n",
       "3                                          NaN  kompas  \n",
       "4                                  Asrama Haji   tempo  "
      ]
     },
     "execution_count": 1,
     "metadata": {},
     "output_type": "execute_result"
    }
   ],
   "source": [
    "import pandas as pd\n",
    "\n",
    "# Memuat dataset yang akan digunakan\n",
    "dataset = pd.read_csv('./data/politik_merge.csv')\n",
    "\n",
    "# Overview dari dataset\n",
    "dataset.head()"
   ]
  },
  {
   "cell_type": "code",
   "execution_count": 2,
   "id": "4ab7b1ef",
   "metadata": {},
   "outputs": [
    {
     "data": {
      "text/plain": [
       "(45781, 10)"
      ]
     },
     "execution_count": 2,
     "metadata": {},
     "output_type": "execute_result"
    }
   ],
   "source": [
    "# Jumlah baris dan kolom dalam dataset\n",
    "dataset.shape"
   ]
  },
  {
   "cell_type": "code",
   "execution_count": 3,
   "id": "51cbe59b",
   "metadata": {},
   "outputs": [
    {
     "name": "stdout",
     "output_type": "stream",
     "text": [
      "<class 'pandas.core.frame.DataFrame'>\n",
      "RangeIndex: 45781 entries, 0 to 45780\n",
      "Data columns (total 10 columns):\n",
      " #   Column   Non-Null Count  Dtype \n",
      "---  ------   --------------  ----- \n",
      " 0   Judul    45746 non-null  object\n",
      " 1   Waktu    45781 non-null  object\n",
      " 2   Link     45779 non-null  object\n",
      " 3   Content  45742 non-null  object\n",
      " 4   tag1     45703 non-null  object\n",
      " 5   tag2     45550 non-null  object\n",
      " 6   tag3     41213 non-null  object\n",
      " 7   tag4     31040 non-null  object\n",
      " 8   tag5     19892 non-null  object\n",
      " 9   source   45709 non-null  object\n",
      "dtypes: object(10)\n",
      "memory usage: 3.5+ MB\n"
     ]
    }
   ],
   "source": [
    "# Informasi lebih lanjut tentang dataset\n",
    "dataset.info()"
   ]
  },
  {
   "cell_type": "code",
   "execution_count": 4,
   "id": "f5875bc6",
   "metadata": {},
   "outputs": [
    {
     "data": {
      "text/html": [
       "<div>\n",
       "<style scoped>\n",
       "    .dataframe tbody tr th:only-of-type {\n",
       "        vertical-align: middle;\n",
       "    }\n",
       "\n",
       "    .dataframe tbody tr th {\n",
       "        vertical-align: top;\n",
       "    }\n",
       "\n",
       "    .dataframe thead th {\n",
       "        text-align: right;\n",
       "    }\n",
       "</style>\n",
       "<table border=\"1\" class=\"dataframe\">\n",
       "  <thead>\n",
       "    <tr style=\"text-align: right;\">\n",
       "      <th></th>\n",
       "      <th>judul</th>\n",
       "      <th>waktu</th>\n",
       "      <th>link</th>\n",
       "      <th>content</th>\n",
       "      <th>tag1</th>\n",
       "      <th>tag2</th>\n",
       "      <th>tag3</th>\n",
       "      <th>tag4</th>\n",
       "      <th>tag5</th>\n",
       "      <th>source</th>\n",
       "    </tr>\n",
       "  </thead>\n",
       "  <tbody>\n",
       "    <tr>\n",
       "      <th>0</th>\n",
       "      <td>Jokowi Kenakan Pakaian Adat Betawi di Sidang T...</td>\n",
       "      <td>16/08/2024</td>\n",
       "      <td>https://nasional.kompas.com/read/2024/08/16/11...</td>\n",
       "      <td>JAKARTA, KOMPAS.com - Presiden Joko Widodo me...</td>\n",
       "      <td>Presiden Jokowi</td>\n",
       "      <td>Jokowi</td>\n",
       "      <td>sidang tahunan MPR RI 2024</td>\n",
       "      <td>Jokowi adat Betawi sidang mpr 2024</td>\n",
       "      <td>Megawati tak hadiri sidang tahunan MPR 2024</td>\n",
       "      <td>kompas</td>\n",
       "    </tr>\n",
       "  </tbody>\n",
       "</table>\n",
       "</div>"
      ],
      "text/plain": [
       "                                               judul       waktu  \\\n",
       "0  Jokowi Kenakan Pakaian Adat Betawi di Sidang T...  16/08/2024   \n",
       "\n",
       "                                                link  \\\n",
       "0  https://nasional.kompas.com/read/2024/08/16/11...   \n",
       "\n",
       "                                             content             tag1    tag2  \\\n",
       "0   JAKARTA, KOMPAS.com - Presiden Joko Widodo me...  Presiden Jokowi  Jokowi   \n",
       "\n",
       "                         tag3                                tag4  \\\n",
       "0  sidang tahunan MPR RI 2024  Jokowi adat Betawi sidang mpr 2024   \n",
       "\n",
       "                                          tag5  source  \n",
       "0  Megawati tak hadiri sidang tahunan MPR 2024  kompas  "
      ]
     },
     "execution_count": 4,
     "metadata": {},
     "output_type": "execute_result"
    }
   ],
   "source": [
    "# Mengubah nama kolom untuk konsistensi\n",
    "dataset.columns = dataset.columns.str.lower().str.replace(' ', '_')\n",
    "dataset.head(1)"
   ]
  },
  {
   "cell_type": "code",
   "execution_count": 5,
   "id": "6b5fda80",
   "metadata": {},
   "outputs": [
    {
     "data": {
      "text/html": [
       "<div>\n",
       "<style scoped>\n",
       "    .dataframe tbody tr th:only-of-type {\n",
       "        vertical-align: middle;\n",
       "    }\n",
       "\n",
       "    .dataframe tbody tr th {\n",
       "        vertical-align: top;\n",
       "    }\n",
       "\n",
       "    .dataframe thead th {\n",
       "        text-align: right;\n",
       "    }\n",
       "</style>\n",
       "<table border=\"1\" class=\"dataframe\">\n",
       "  <thead>\n",
       "    <tr style=\"text-align: right;\">\n",
       "      <th></th>\n",
       "      <th>content</th>\n",
       "    </tr>\n",
       "  </thead>\n",
       "  <tbody>\n",
       "    <tr>\n",
       "      <th>0</th>\n",
       "      <td>JAKARTA, KOMPAS.com - Presiden Joko Widodo me...</td>\n",
       "    </tr>\n",
       "  </tbody>\n",
       "</table>\n",
       "</div>"
      ],
      "text/plain": [
       "                                             content\n",
       "0   JAKARTA, KOMPAS.com - Presiden Joko Widodo me..."
      ]
     },
     "execution_count": 5,
     "metadata": {},
     "output_type": "execute_result"
    }
   ],
   "source": [
    "# Menghapus kolom yang tidak diperlukan\n",
    "dataset = dataset.drop(columns=['judul', 'waktu', 'link', 'tag1', 'tag2', 'tag3', 'tag4', 'tag5', 'source'])\n",
    "dataset.head(1)"
   ]
  },
  {
   "cell_type": "code",
   "execution_count": 6,
   "id": "136eeff3",
   "metadata": {},
   "outputs": [
    {
     "data": {
      "text/plain": [
       "content    39\n",
       "dtype: int64"
      ]
     },
     "execution_count": 6,
     "metadata": {},
     "output_type": "execute_result"
    }
   ],
   "source": [
    "# Menghitung jumlah nilai yang hilang (missing values) dalam dataset\n",
    "dataset.isna().sum()"
   ]
  },
  {
   "cell_type": "code",
   "execution_count": 7,
   "id": "70f2fa38",
   "metadata": {},
   "outputs": [
    {
     "name": "stdout",
     "output_type": "stream",
     "text": [
      "Rasio nilai yang hilang: content    0.000852\n",
      "dtype: float64\n"
     ]
    }
   ],
   "source": [
    "# Rasio dari nilai yang hilang terhadap total data\n",
    "missing_ratio = dataset.isna().sum() / len(dataset)\n",
    "print(f\"Rasio nilai yang hilang: {missing_ratio}\")"
   ]
  },
  {
   "cell_type": "code",
   "execution_count": 8,
   "id": "4d2686dd",
   "metadata": {},
   "outputs": [
    {
     "data": {
      "text/plain": [
       "content    0\n",
       "dtype: int64"
      ]
     },
     "execution_count": 8,
     "metadata": {},
     "output_type": "execute_result"
    }
   ],
   "source": [
    "# Menhapus baris yang memiliki nilai yang hilang\n",
    "dataset = dataset.dropna()\n",
    "dataset.isna().sum()"
   ]
  },
  {
   "cell_type": "code",
   "execution_count": 9,
   "id": "9b6b123b",
   "metadata": {},
   "outputs": [
    {
     "name": "stdout",
     "output_type": "stream",
     "text": [
      "TEMPO CO Cirebon Dampak one way yang diberlakukan mulai KM Gerbang Tol Kalikangkung hingga KM Tol Cipali membuat jalur pantura mengalami kepadatan pada Sabtu April Seperti diketahui one way di jalur tol mulai diberlakukan hari ini Sabtu April mulai pukul WIB One way yang diberlakukan mulai KM GT Kalikangkung hingga KM tol Cipali Berdasarkan pantauan jalur pantura arah Cirebon menuju Jawa Tengah padat oleh kendaraan roda empat sedangkan di jalur sebaliknya dipenuhi oleh pemudik sepeda motor yang semakin banyak jumlahnya dan hendak kembali ke Jakarta Arus Balik Libur Idul Adha Ribu Kendaraan Telah Kembali ke Jabodetabek Untuk menghindari kepadatan kendaraan yang hendak menuju Jawa Tengah dibagi dua di Kedawung Ada yang diluruskan menuju by pass di jalur pantura dan ada pula yang dibelokkan ke kiri masuk ke Pilang-Kota Cirebon-Samadikun Yos Sudarso dan kembali ke jalur Pantura Untuk pemudik di jalur Pantura dengan tujuan Jakarta dan sekitarnya hingga pukul WIB jumlahnya sudah mencapai kendaraan didominasi oleh motor dengan jumlah kendaraan Di sejumlah titik terjadi kepadatan akibat jalur yang sempit dan aktivitas di Pasar Kue Weru Kepala Pembinaan Operasi Satlantas Polres Cirebon Kota Ipda Rizwan menjelaskan peningkatan kendaraan yang hendak kembali ke Jakarta mulai terlihat sejak lebaran Namun untuk puncak arus balik di jalur pantura diprediksi terjadi Ahad April dan Senin April Libur Idul Adha Puncak Arus Balik Penumpang Kereta Daop Jakarta Hari Ini Capai Orang Kami sudah menyiapkan personel baik di pantura maupun di jalur tol untuk menghadapi puncak arus balik tutur Rizwan Sementara itu berdasarkan perrhitungan di Pospam Lebaran Dishub Kota Cirebon jumlah kendaraan di arus balik yang melewati pantura terus meningkat Pada Kamis April jumlah kendaraan ke arah Jakarta mencapai yang didominasi oleh motor sebanyak sedangkan pada Jumat April jumlah kendaraan di arus balik mencapai dengan jumlah motor sebanyak\n"
     ]
    }
   ],
   "source": [
    "import re\n",
    "\n",
    "# Preprocessing teks untuk membersihkan konten\n",
    "def clean_text(text):\n",
    "    \"\"\"Preprocessing teks yang akurat dan efisien\"\"\"\n",
    "    if not isinstance(text, str):\n",
    "        return \"\"\n",
    "    \n",
    "    # Hapus URL\n",
    "    text = re.sub(r'https?://\\S+|www\\.\\S+', '', text)\n",
    "    \n",
    "    # Hapus mention\n",
    "    text = re.sub(r'@\\w+', '', text)\n",
    "    \n",
    "    # Ubah hashtag jadi kata biasa\n",
    "    text = re.sub(r'#(\\w+)', r'\\1', text)\n",
    "    \n",
    "    # Hapus karakter khusus kecuali apostrof dan tanda hubung\n",
    "    text = re.sub(r'[^\\w\\s\\'\\-]', ' ', text)\n",
    "    \n",
    "    # Normalisasi apostrof\n",
    "    text = re.sub(r'[''`]', \"'\", text)\n",
    "    \n",
    "    # Hapus angka standalone\n",
    "    text = re.sub(r'\\b\\d+\\b', '', text)\n",
    "    \n",
    "    # Hapus spasi berlebih\n",
    "    text = re.sub(r'\\s+', ' ', text).strip()\n",
    "    \n",
    "    # Hapus kata pendek kecuali yang penting\n",
    "    words = text.split()\n",
    "    important_short = {'di', 'ke', 'ku', 'mu', 'ya', 'si', 'se', 'dan', 'ini', 'itu', 'dia', 'ada', 'tak', 'pun', 'nya', 'aku', 'bab', 'hal', 'per', 'pro', 'sub', 'non', 'bio', 'dll', 'dsb', 'pdt', 'dr', 'ir', 'st', 'mt', 'sh', 'mm', 'sm', 'sk', 'sd', 'tk', 'rs', 'rt', 'rw', 'no'}\n",
    "    filtered_words = [word for word in words if len(word) >= 2 or word in important_short]\n",
    "    \n",
    "    return ' '.join(filtered_words)\n",
    "\n",
    "# Terapkan ke dataset\n",
    "dataset['cleaned_content'] = dataset['content'].apply(clean_text)\n",
    "print(dataset['cleaned_content'].sample(1).values[0])"
   ]
  },
  {
   "cell_type": "code",
   "execution_count": 10,
   "id": "51b1813b",
   "metadata": {},
   "outputs": [
    {
     "name": "stdout",
     "output_type": "stream",
     "text": [
      "tempo co jakarta komisi pemberantasan korupsi atau kpk menangkap bupati labuhanbatu erik atrada ritonga ear dalam operasi tangkap tangan atau ott benar salah satunya bupati labuhanbatu kata juru bicara penindakan dan kepegawaian kpk ali fikri kamis januari erik ialah seorang dokter yang kemudian menjabat sebagai bupati labuhanbatu periode setelah menjadi anggota komisi xi dpr-ri dari fraksi partai hanura dapil sumut periode ia maju di pilkada bupati labuhanbatu bersama pasangannya ellya rosa siregar saat ahmad sahroni bilang pelanggaran etik nurul ghufron jadi catatan seleksi capim kpk pada mei kpu kabupaten labuhanbatu resmi menetapkan pasangan calon erik-ellya sebagai bupati dan wakil bupati terpilih labuhanbatu periode erik lahir di rantau prapat labuhanbatu sumatera utara pada mei pria berusia tahun itu mengeyam pendidikan sd dan smp di rantau prapat kemudian saat melanjutkan ke sma ia bersekolah di sma negeri bandung ia melanjutkan studi s1 di universitas sumatera utara dan s2 di universitas sari mutiara indonesia adapun riwayat pekerjaannya erik sampai saat ini menjabat sebagai direktur rumah sakit elpi al azis sejak anggota dpr periode dan terakhir sebagai bupati labuhanbatu hingga saat ini sebelumnya wakil ketua kpk nurul ghufron mengatakan pihaknya telah melakukan ott di labuhanbatu khususnya terhadap pejabat publik dengan dugaan penerimaan suap kpk telah melakukan giat tangkap tangan di wilayah kabupaten labuhanbatu terhadap terduga penyelenggara negara yang diduga menerima pemberian hadiah atau suap kata ghufron kamis seluk-beluk gratifikasi menilik ancaman hukuman penjara di kasus gratifikasi berdasarkan informasi yang diterima tempo diduga pihak yang ditangkap kpk yakni ear selaku bupati labuhanbatu yang juga politikus nasdem dan selaku plt kadiskes labuhanbatu\n"
     ]
    }
   ],
   "source": [
    "# Case folding untuk normalisasi huruf kecil\n",
    "dataset['cleaned_content'] = dataset['cleaned_content'].str.lower()\n",
    "print(dataset['cleaned_content'].sample(1).values[0])"
   ]
  },
  {
   "cell_type": "code",
   "execution_count": 11,
   "id": "97162534",
   "metadata": {},
   "outputs": [
    {
     "name": "stdout",
     "output_type": "stream",
     "text": [
      "['jakarta', 'kompas', 'com', 'sekretaris', 'jenderal', 'sekjen', 'partai', 'amanat', 'nasional', 'pan', 'eddy', 'soeparno', 'menegaskan', 'melawan', 'kotak', 'kosong', 'dalam', 'sebuah', 'kontestasi', 'pilkada', 'bukanlah', 'hal', 'yang', 'mudah', 'menurut', 'dia', 'pernah', 'ada', 'calon', 'kepala', 'daerah', 'yang', 'kalah', 'ketika', 'melawan', 'kotak', 'kosong', 'di', 'pilkada', 'jangan', 'lupa', 'loh', 'yang', 'namanya', 'melawan', 'kotak', 'kosong', 'itu', 'juga', 'enggak', 'gampang', 'ada', 'kejadian', 'di', 'mana', 'kotak', 'kosong', 'itu', 'bisa', 'menang', 'pilkada', 'ujar', 'eddy', 'saat', 'ditemui', 'di', 'gedung', 'dpr', 'senayan', 'jakarta', 'rabu', 'terkait', 'skenario', 'koalisi', 'indonesia', 'maju', 'kim', 'plus', 'menjegal', 'anies', 'baswedan', 'di', 'pilkada', 'jakarta', 'eddy', 'membantah', 'kecurigaan', 'tersebut', 'dia', 'mengeklaim', 'dua', 'pasangan', 'calon', 'bisa', 'tercipta', 'di', 'pilkada', 'jakarta', 'saya', 'masih', 'coba', 'memahami', 'bagaimana', 'cara', 'menjegalnya', 'gitu', 'ya', 'tetapi', 'yang', 'namanya', 'kita', 'berpolitik', 'kan', 'kita', 'berpolitik', 'ingin', 'guyub', 'ya', 'ingin', 'guyub', 'ingin', 'maju', 'demokrasi', 'juga', 'harus', 'tetap', 'hidup', 'jadi', 'peluang', 'bagi', 'terciptanya', 'dua', 'pasangan', 'calon', 'untuk', 'berlaga', 'baik', 'di', 'jakarta', 'maupun', 'di', 'jawa', 'barat', 'ya', 'saya', 'kira', 'itu', 'tetap', 'terbuka', 'terbuka', 'luas', 'ya', 'tutur', 'dia', 'sementara', 'itu', 'eddy', 'turut', 'membantah', 'tidak', 'ada', 'desain', 'khusus', 'yang', 'diciptakan', 'kim', 'plus', 'untuk', 'menghadirkan', 'kotak', 'kosong', 'di', 'seluruh', 'daerah', 'termasuk', 'jakarta', 'hanya', 'saja', 'kata', 'dia', 'jika', 'semua', 'partai', 'sepakat', 'mengusung', 'calon', 'yang', 'sama', 'itu', 'bisa', 'saja', 'terjadi', 'tetapi', 'tidak', 'ada', 'pertimbangan', 'lain', 'di', 'luar', 'itu', 'jadi', 'kalau', 'sampai', 'ada', 'teori', 'konspirasi', 'untuk', 'menggagalkan', 'salah', 'satu', 'calon', 'untuk', 'maju', 'di', 'pilgub', 'ini', 'tidak', 'ada', 'ujar', 'eddy', 'skenario', 'dominasi', 'calon', 'tunggal', 'melawan', 'kotak', 'kosong', 'pada', 'pemilihan', 'kepala', 'daerah', 'pilkada', 'jakarta', 'diperkirakan', 'baru', 'bisa', 'terjadi', 'jika', 'partai', 'keadilan', 'sejahtera', 'pks', 'partai', 'kebangkitan', 'bangsa', 'pkb', 'dan', 'partai', 'nasdem', 'merapat', 'kepada', 'koalisi', 'indonesia', 'maju', 'kim', 'jika', 'hal', 'itu', 'terjadi', 'wacana', 'koalisi', 'indonesia', 'maju', 'kim', 'plus', 'kemungkinan', 'terwujud', 'dan', 'sang', 'kandidat', 'diusung', 'yakni', 'ridwan', 'kamil', 'bisa', 'dipastikan', 'tidak', 'akan', 'mendapatkan', 'perlawanan', 'sengit', 'pada', 'pilkada', 'jakarta', 'kemungkinan', 'kim', 'plus', 'melawan', 'kotak', 'kosong', 'di', 'pilkada', 'jakarta', 'mengemuka', 'ketika', 'koalisi', 'perubahan', 'yang', 'beranggotakan', 'nasdem', 'pkb', 'dan', 'pks', 'yang', 'sementara', 'ini', 'mengusung', 'anies', \"'tergiur\", \"'\", 'untuk', 'berpindah', 'haluan', 'kata', 'direktur', 'eksekutif', 'trias', 'politika', 'strategis', 'agung', 'baskoro', 'saat', 'dihubungi', 'kompas', 'com', 'senin', 'menurut', 'agung', 'jika', 'ketiga', 'partai', 'politik', 'itu', 'tergiur', 'bergabung', 'dengan', 'kim', 'maka', 'hal', 'itu', 'memperlihatkan', 'mereka', 'lebih', 'memilih', 'bersikap', 'pragmatis', 'ketimbang', 'mempertahankan', 'sikap', 'oposisi', 'yang', 'ditunjukkan', 'pada', 'masa', 'pemilihan', 'presiden', 'pilpres', 'dan', 'pemilu', 'ketertarikan', 'nasdem', 'pkb', 'dan', 'pks', 'ini', 'terjadi', 'karena', 'nalar', 'politik', 'nasional', 'yakni', 'bergabung', 'dengan', 'pemerintahan', 'presiden-wakil', 'presiden', 'terpilih', 'prabowo-gibran', 'menghegemoni', 'sehingga', 'nalar', 'pilkada', 'regional', 'menjadi', 'bukan', 'prioritas', 'ujar', 'agung']\n"
     ]
    }
   ],
   "source": [
    "from nltk.tokenize import word_tokenize\n",
    "\n",
    "# Proses tokenisasi \n",
    "dataset['tokens'] = [word_tokenize(text) for text in dataset['cleaned_content']]\n",
    "print(dataset['tokens'].sample(1).values[0])"
   ]
  },
  {
   "cell_type": "code",
   "execution_count": 12,
   "id": "9991706b",
   "metadata": {},
   "outputs": [
    {
     "name": "stdout",
     "output_type": "stream",
     "text": [
      "['komisi', 'pemilihan', 'kpu', 'ri', 'menetapkan', 'calon', 'anggota', 'legislatif', 'caleg', 'dpr', 'ri', 'terpilih', 'periode', 'politikus', 'pdip', 'said', 'abdullah', 'caleg', 'terpilih', 'perolehan', 'suara', 'tertinggi', 'suara', 'penetapan', 'dibacakan', 'ketua', 'kpu', 'ri', 'mochammad', 'afifuddin', 'kantor', 'kpu', 'menteng', 'jakarta', 'pusat', 'minggu', 'penetapan', 'dihadiri', 'mahkamah', 'konstitusi', 'mk', 'bawaslu', 'dkpp', 'partai', 'politik', 'stakeholder', 'terkait', 'penetapan', 'said', 'abdullah', 'caleg', 'terpilih', 'perolehan', 'suara', 'tertinggi', 'suara', 'posisi', 'dedi', 'mulyadi', 'partai', 'gerindra', 'suara', 'urutan', 'ketiga', 'edhie', 'baskoro', 'yudhoyono', 'ibas', 'partai', 'demokrat', 'suara', 'puan', 'maharani', 'posisi', 'keenam', 'suara', 'rincian', 'caleg', 'dpr', 'ri', 'terpilih', 'suara', 'tertinggi', 'said', 'abdullah', 'pdip', 'suara', 'dedi', 'mulyadi', 'gerindra', 'suara', 'edhie', 'baskoro', 'yudhoyono', 'partai', 'demokrat', 'suara', 'hillary', 'brigitta', 'lasut', 'partai', 'demokrat', 'airin', 'rachmy', 'diani', 'partai', 'golkar', 'suara', 'puan', 'maharani', 'pdi', 'perjuangan', 'suara', 'nyoman', 'parta', 'pdi', 'perjuangan', 'fauzi', 'amro', 'partai', 'nasdem', 'suara', 'sofyan', 'tan', 'pdi', 'perjuangan', 'suara', 'komarudin', 'watubun', 'pdi', 'perjuangan', 'suarasimak', 'video', 'parpol', 'gugat', 'hasil', 'pileg', 'kpu', 'batal', 'tetapkan', 'caleg', 'dpr', 'terpilih', 'gambas', 'video', '20detik']\n"
     ]
    }
   ],
   "source": [
    "from nltk.corpus import stopwords\n",
    "\n",
    "# Proses stopword removal\n",
    "stop_words_frozen = frozenset(stopwords.words('indonesian'))\n",
    "dataset['stopwords'] = [\n",
    "    [word for word in tokens if word not in stop_words_frozen]\n",
    "    for tokens in dataset['tokens']\n",
    "]\n",
    "\n",
    "print(dataset['stopwords'].sample(1).values[0])"
   ]
  },
  {
   "cell_type": "code",
   "execution_count": 13,
   "id": "363ee095",
   "metadata": {},
   "outputs": [
    {
     "name": "stdout",
     "output_type": "stream",
     "text": [
      "Collecting unique words...\n",
      "Total unique words: 122,896\n",
      "Processed 5,000/122,896\n",
      "Processed 10,000/122,896\n",
      "Processed 15,000/122,896\n",
      "Processed 20,000/122,896\n",
      "Processed 25,000/122,896\n",
      "Processed 30,000/122,896\n",
      "Processed 35,000/122,896\n",
      "Processed 40,000/122,896\n",
      "Processed 45,000/122,896\n",
      "Processed 50,000/122,896\n",
      "Processed 55,000/122,896\n",
      "Processed 60,000/122,896\n",
      "Processed 65,000/122,896\n",
      "Processed 70,000/122,896\n",
      "Processed 75,000/122,896\n",
      "Processed 80,000/122,896\n",
      "Processed 85,000/122,896\n",
      "Processed 90,000/122,896\n",
      "Processed 95,000/122,896\n",
      "Processed 100,000/122,896\n",
      "Processed 105,000/122,896\n",
      "Processed 110,000/122,896\n",
      "Processed 115,000/122,896\n",
      "Processed 120,000/122,896\n",
      "Completed! Errors: 20\n",
      "Sample result:\n",
      "['jakarta', 'kompas', 'com', 'wakil', 'ketua', 'badan', 'legislasi', 'baleg', 'dpr', 'achmad', 'baidowi', 'dpr', 'batal', 'bahas', 'revisi', 'undangundang', 'tni', 'undangundang', 'polri', 'awiek', 'sapa', 'akrab', 'revisi', 'uu', 'bahas', 'dpr', 'kunjung', 'terima', 'surat', 'presiden', 'surpres', 'revisi', 'uu', 'tni', 'uu', 'polri', 'perintah', 'surpres', 'perintah', 'ya', 'batal', 'awiek', 'kompas', 'com', 'senin', 'ruu', 'tni', 'polri', 'politikus', 'partai', 'satu', 'bangun', 'ppp', 'kunjung', 'serah', 'supres', 'tanda', 'perintah', 'tuju', 'revisi', 'uu', 'tni', 'uu', 'polri', 'awiek', 'singgung', 'jabat', 'presiden', 'dpr', 'lantas', 'rapat', 'paripurna', 'dpr', 'ada', 'revisi', 'uu', 'tni', 'uu', 'polri', 'benarbenar', 'batal', 'keluar', 'daftar', 'ruu', 'inisiatif', 'dpr', 'batal', 'resmi', 'paripurna', 'ruu', 'usul', 'inisiatif', 'berita', 'dpr', 'tetap', 'revisi', 'uu', 'tni', 'uu', 'polri', 'usul', 'inisiatif', 'dpr', 'revisi', 'uu', 'anggap', 'masalah', 'revisi', 'uu', 'tni', 'luas', 'peluang', 'anggota', 'tni', 'isi', 'jabat', 'sipil', 'tni', 'usul', 'revisi', 'uu', 'tni', 'hapus', 'pasal', 'larang', 'tni', 'bisnis', 'revisi', 'uu', 'polri', 'nilai', 'masalah', 'luas', 'wenang', 'institusi']\n"
     ]
    }
   ],
   "source": [
    "from Sastrawi.Stemmer.StemmerFactory import StemmerFactory\n",
    "import re\n",
    "\n",
    "# Inisialisasi stemmer sekali saja\n",
    "factory = StemmerFactory()\n",
    "stemmer = factory.create_stemmer()\n",
    "\n",
    "def clean_token(token):\n",
    "    \"\"\"Bersihkan token sebelum stemming\"\"\"\n",
    "    if not token or not isinstance(token, str):\n",
    "        return token\n",
    "    \n",
    "    cleaned = re.sub(r'[^a-zA-Z]', '', token.lower())\n",
    "    return cleaned if cleaned else token\n",
    "\n",
    "def build_accurate_stem_dict(df):\n",
    "    \"\"\"Build stemming dictionary dengan akurasi maksimal\"\"\"\n",
    "    print(\"Collecting unique words...\")\n",
    "    all_words = set()\n",
    "    \n",
    "    # Kumpulkan semua kata unik\n",
    "    for tokens in df['stopwords']:\n",
    "        if tokens and isinstance(tokens, list):\n",
    "            for token in tokens:\n",
    "                if token and isinstance(token, str) and len(token.strip()) > 0:\n",
    "                    all_words.add(token.strip())\n",
    "    \n",
    "    print(f\"Total unique words: {len(all_words):,}\")\n",
    "    \n",
    "    # Stem setiap kata individual\n",
    "    stem_dict = {}\n",
    "    processed = 0\n",
    "    errors = 0\n",
    "    \n",
    "    for word in all_words:\n",
    "        try:\n",
    "            cleaned_word = clean_token(word)\n",
    "            \n",
    "            if cleaned_word and len(cleaned_word) > 1:\n",
    "                stemmed = stemmer.stem(cleaned_word)\n",
    "                \n",
    "                if stemmed and len(stemmed) <= len(cleaned_word) + 2:\n",
    "                    stem_dict[word] = stemmed\n",
    "                else:\n",
    "                    stem_dict[word] = cleaned_word\n",
    "                    errors += 1\n",
    "            else:\n",
    "                stem_dict[word] = word\n",
    "                \n",
    "        except Exception:\n",
    "            stem_dict[word] = word\n",
    "            errors += 1\n",
    "        \n",
    "        processed += 1\n",
    "        if processed % 5000 == 0:\n",
    "            print(f\"Processed {processed:,}/{len(all_words):,}\")\n",
    "    \n",
    "    print(f\"Completed! Errors: {errors}\")\n",
    "    return stem_dict\n",
    "\n",
    "# Build dictionary dengan akurasi maksimal\n",
    "stem_dict = build_accurate_stem_dict(dataset)\n",
    "\n",
    "# Apply stemming\n",
    "dataset['stemmed'] = [[stem_dict.get(token, token) for token in tokens] for tokens in dataset['stopwords']]\n",
    "\n",
    "# Lihat hasil\n",
    "print(\"Sample result:\")\n",
    "print(dataset['stemmed'].sample(1).values[0])"
   ]
  },
  {
   "cell_type": "code",
   "execution_count": 14,
   "id": "d54f919c",
   "metadata": {},
   "outputs": [
    {
     "data": {
      "text/html": [
       "<div>\n",
       "<style scoped>\n",
       "    .dataframe tbody tr th:only-of-type {\n",
       "        vertical-align: middle;\n",
       "    }\n",
       "\n",
       "    .dataframe tbody tr th {\n",
       "        vertical-align: top;\n",
       "    }\n",
       "\n",
       "    .dataframe thead th {\n",
       "        text-align: right;\n",
       "    }\n",
       "</style>\n",
       "<table border=\"1\" class=\"dataframe\">\n",
       "  <thead>\n",
       "    <tr style=\"text-align: right;\">\n",
       "      <th></th>\n",
       "      <th>content</th>\n",
       "      <th>cleaned_content</th>\n",
       "      <th>tokens</th>\n",
       "      <th>stopwords</th>\n",
       "      <th>stemmed</th>\n",
       "    </tr>\n",
       "  </thead>\n",
       "  <tbody>\n",
       "    <tr>\n",
       "      <th>0</th>\n",
       "      <td>JAKARTA, KOMPAS.com - Presiden Joko Widodo me...</td>\n",
       "      <td>jakarta kompas com presiden joko widodo memaka...</td>\n",
       "      <td>[jakarta, kompas, com, presiden, joko, widodo,...</td>\n",
       "      <td>[jakarta, kompas, com, presiden, joko, widodo,...</td>\n",
       "      <td>[jakarta, kompas, com, presiden, joko, widodo,...</td>\n",
       "    </tr>\n",
       "  </tbody>\n",
       "</table>\n",
       "</div>"
      ],
      "text/plain": [
       "                                             content  \\\n",
       "0   JAKARTA, KOMPAS.com - Presiden Joko Widodo me...   \n",
       "\n",
       "                                     cleaned_content  \\\n",
       "0  jakarta kompas com presiden joko widodo memaka...   \n",
       "\n",
       "                                              tokens  \\\n",
       "0  [jakarta, kompas, com, presiden, joko, widodo,...   \n",
       "\n",
       "                                           stopwords  \\\n",
       "0  [jakarta, kompas, com, presiden, joko, widodo,...   \n",
       "\n",
       "                                             stemmed  \n",
       "0  [jakarta, kompas, com, presiden, joko, widodo,...  "
      ]
     },
     "execution_count": 14,
     "metadata": {},
     "output_type": "execute_result"
    }
   ],
   "source": [
    "# Menampilkan hasil akhir\n",
    "dataset.head(1)"
   ]
  },
  {
   "cell_type": "code",
   "execution_count": 15,
   "id": "e26d121a",
   "metadata": {},
   "outputs": [],
   "source": [
    "# Simpan dataset yang sudah dibersihkan\n",
    "dataset.to_csv('data/preprocessed_dataset.csv', index=False)"
   ]
  }
 ],
 "metadata": {
  "kernelspec": {
   "display_name": "python",
   "language": "python",
   "name": "python3"
  },
  "language_info": {
   "codemirror_mode": {
    "name": "ipython",
    "version": 3
   },
   "file_extension": ".py",
   "mimetype": "text/x-python",
   "name": "python",
   "nbconvert_exporter": "python",
   "pygments_lexer": "ipython3",
   "version": "3.10.12"
  }
 },
 "nbformat": 4,
 "nbformat_minor": 5
}
